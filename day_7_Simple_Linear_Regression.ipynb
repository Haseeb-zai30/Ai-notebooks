{
  "nbformat": 4,
  "nbformat_minor": 0,
  "metadata": {
    "colab": {
      "provenance": [],
      "authorship_tag": "ABX9TyO4Ia9p0jNtXT9atNRqoK25",
      "include_colab_link": true
    },
    "kernelspec": {
      "name": "python3",
      "display_name": "Python 3"
    },
    "language_info": {
      "name": "python"
    }
  },
  "cells": [
    {
      "cell_type": "markdown",
      "metadata": {
        "id": "view-in-github",
        "colab_type": "text"
      },
      "source": [
        "<a href=\"https://colab.research.google.com/github/Haseeb-zai30/Ai-notebooks/blob/main/day_7_Simple_Linear_Regression.ipynb\" target=\"_parent\"><img src=\"https://colab.research.google.com/assets/colab-badge.svg\" alt=\"Open In Colab\"/></a>"
      ]
    },
    {
      "cell_type": "markdown",
      "source": [
        "# Regression"
      ],
      "metadata": {
        "id": "bbzdX7YtkjAs"
      }
    },
    {
      "cell_type": "markdown",
      "source": [
        "Regression is a statistical and machine learning technique used to find the **relationship between variables**.\n",
        "\n",
        "It helps us understand how a dependent variable (output/target) changes when independent variables (inputs/features) change.\n",
        "\n",
        "**Main purpose:** Prediction and explanation."
      ],
      "metadata": {
        "id": "3raVEJ8Dky3A"
      }
    },
    {
      "cell_type": "markdown",
      "source": [
        "**Why Regression is Important?**\n",
        "\n",
        "Prediction → Estimate future values (e.g., sales forecast).\n",
        "\n",
        "Relationship → Understand how variables affect outcomes (e.g., effect of advertising on sales).\n",
        "\n",
        "Decision-making → Helps in economics, engineering, business, AI, and sciences."
      ],
      "metadata": {
        "id": "EOMfnkCMk_s_"
      }
    },
    {
      "cell_type": "markdown",
      "source": [
        "## Linear Regression"
      ],
      "metadata": {
        "id": "pUQpO7_olMZg"
      }
    },
    {
      "cell_type": "markdown",
      "source": [
        "Linear regression is one of the simplest and most widely used statistical and machine learning methods.\n",
        "It assumes that there is a linear (straight-line) relationship between:\n",
        "\n",
        "Dependent variable (Y) → the target we want to predict\n",
        "\n",
        "Independent variable(s) (X) → the input(s) used to predict Y"
      ],
      "metadata": {
        "id": "CTFO-bLEliKH"
      }
    },
    {
      "cell_type": "markdown",
      "source": [
        "## Equation of Linear Regression\n",
        "\n",
        "The mathematical model is:\n",
        "\n",
        "$$\n",
        "Y = \\beta_0 + \\beta_1 X + \\epsilon\n",
        "$$\n",
        "\n",
        "Where:  \n",
        "\n",
        "- $Y$ = Dependent variable (target/output)  \n",
        "- $X$ = Independent variable (input)  \n",
        "- $\\beta_0$ = Intercept (value of $Y$ when $X = 0$)  \n",
        "- $\\beta_1$ = Slope (how much $Y$ changes when $X$ increases by 1)  \n",
        "- $\\epsilon$ = Error term (difference between predicted and actual values)  \n"
      ],
      "metadata": {
        "id": "tgvuQSyklvP5"
      }
    },
    {
      "cell_type": "markdown",
      "source": [
        "## Assumptions of Linear Regression\n",
        "\n",
        "For the model to be valid, certain conditions must hold:\n",
        "\n",
        "Linearity → Relationship between X and Y must be linear.\n",
        "\n",
        "Independence → Data points must be independent.\n",
        "\n",
        "Homoscedasticity → Equal variance of errors (spread of residuals is constant).\n",
        "\n",
        "Normality of Errors → Errors should follow a normal distribution.\n",
        "\n",
        "No Multicollinearity (for multiple regression) → Independent variables shouldn’t be too highly correlated."
      ],
      "metadata": {
        "id": "U_A8FTlBmB77"
      }
    },
    {
      "cell_type": "markdown",
      "source": [
        "## Types of Linear Regression\n",
        "\n",
        "1. **Simple Linear Regression** → One input variable ($X \\rightarrow Y$).  \n",
        "\n",
        "   $$\n",
        "   Y = \\beta_0 + \\beta_1 X + \\epsilon\n",
        "   $$  \n",
        "\n",
        "2. **Multiple Linear Regression** → Two or more input variables ($X_1, X_2, \\dots, X_n$).  \n",
        "\n",
        "   $$\n",
        "   Y = \\beta_0 + \\beta_1 X_1 + \\beta_2 X_2 + \\cdots + \\beta_n X_n + \\epsilon\n",
        "   $$\n"
      ],
      "metadata": {
        "id": "4ihriQYImPER"
      }
    },
    {
      "cell_type": "markdown",
      "source": [
        "## Advantages\n",
        "\n",
        "Easy to implement and interpret.\n",
        "\n",
        "Works well for simple problems.\n",
        "\n",
        "Foundation for advanced models."
      ],
      "metadata": {
        "id": "exJuDRpTmbMt"
      }
    },
    {
      "cell_type": "markdown",
      "source": [
        "## Limitations\n",
        "\n",
        "Only works if relationship is linear.\n",
        "\n",
        "Sensitive to outliers.\n",
        "\n",
        "Assumptions must hold, otherwise predictions are unreliable.\n",
        "\n",
        "Struggles with complex, nonlinear patterns"
      ],
      "metadata": {
        "id": "RP18DrH_mgjd"
      }
    },
    {
      "cell_type": "markdown",
      "source": [
        "## Applications of Linear Regression\n",
        "\n",
        "Predicting sales based on advertising spend\n",
        "\n",
        "Predicting house prices based on size & location\n",
        "\n",
        "Predicting student scores based on study hours\n",
        "\n",
        "Predicting stock prices (basic trend analysis)\n",
        "\n",
        "Predicting medical outcomes (e.g., effect of dosage on blood pressure)"
      ],
      "metadata": {
        "id": "rsvQOTrDmmKQ"
      }
    },
    {
      "cell_type": "markdown",
      "source": [
        "**Linear Regression = Finding the best straight line that explains the relationship between input(s) and output.**"
      ],
      "metadata": {
        "id": "XSIo4o6Vmq2f"
      }
    },
    {
      "cell_type": "markdown",
      "source": [
        "## Simple Linear Regression"
      ],
      "metadata": {
        "id": "eU1QisqYmyFk"
      }
    },
    {
      "cell_type": "markdown",
      "source": [
        "Simple Linear Regression is the most basic regression technique.\n",
        "\n",
        "It studies the relationship between one independent variable (X) and one dependent variable (Y).\n",
        "\n",
        "The relationship is modeled using a straight line."
      ],
      "metadata": {
        "id": "56Oxt6gmnE6c"
      }
    },
    {
      "cell_type": "markdown",
      "source": [
        "### Simple Linear Regression: Predicting CO₂ Emissions"
      ],
      "metadata": {
        "id": "Kg5g5fXnnQXT"
      }
    },
    {
      "cell_type": "markdown",
      "source": [
        "### Step 1: Importing Libraries"
      ],
      "metadata": {
        "id": "Hc1pay2ynXBe"
      }
    },
    {
      "cell_type": "code",
      "source": [
        "import requests   # for downloading dataset from the internet\n",
        "import numpy as np\n",
        "import pandas as pd\n",
        "import matplotlib.pyplot as plt"
      ],
      "metadata": {
        "id": "1bXD3ESylN_K"
      },
      "execution_count": 1,
      "outputs": []
    },
    {
      "cell_type": "markdown",
      "source": [
        "requests → lets us download files directly from a URL.\n",
        "\n",
        "numpy (np) → used for mathematical operations and arrays.\n",
        "\n",
        "pandas (pd) → used for handling datasets in table format (rows & columns).\n",
        "\n",
        "matplotlib.pyplot (plt) → used for creating plots and visualizations."
      ],
      "metadata": {
        "id": "Xdh-CERunf_k"
      }
    },
    {
      "cell_type": "markdown",
      "source": [
        "### Step 2: Downloading the Dataset"
      ],
      "metadata": {
        "id": "hPGWlXuwnj60"
      }
    },
    {
      "cell_type": "code",
      "source": [
        "url = \"https://cf-courses-data.s3.us.cloud-object-storage.appdomain.cloud/IBMDeveloperSkillsNetwork-ML0101EN-SkillsNetwork/labs/Module%202/data/FuelConsumptionCo2.csv\"\n",
        "\n",
        "response = requests.get(url)       # send request to URL\n",
        "file = \"data.csv\"                  # local filename\n",
        "with open(file, \"wb\") as x:        # open in binary mode\n",
        "    x.write(response.content)      # write file to computer\n"
      ],
      "metadata": {
        "id": "ICXPAYMsncGq"
      },
      "execution_count": 2,
      "outputs": []
    },
    {
      "cell_type": "markdown",
      "source": [
        "We fetch a CSV dataset (Fuel Consumption vs. CO₂ Emission).\n",
        "\n",
        "requests.get(url) → downloads the file.\n",
        "\n",
        "with open(..., \"wb\") → saves it as \"data.csv\" on your computer."
      ],
      "metadata": {
        "id": "18m1l_KDnpiF"
      }
    },
    {
      "cell_type": "markdown",
      "source": [
        "### Step 3: Loading the Data"
      ],
      "metadata": {
        "id": "6UcfIMEznvZM"
      }
    },
    {
      "cell_type": "code",
      "source": [
        "df = pd.read_csv(\"data.csv\")   # load dataset into a pandas DataFrame\n",
        "\n",
        "print(df.head())       # show first 5 rows\n",
        "print(df.describe())   # show summary statistics\n"
      ],
      "metadata": {
        "colab": {
          "base_uri": "https://localhost:8080/"
        },
        "id": "Of4cnZZ2noc5",
        "outputId": "be383d34-8254-4bb4-b210-c777994c3c42"
      },
      "execution_count": 3,
      "outputs": [
        {
          "output_type": "stream",
          "name": "stdout",
          "text": [
            "   MODELYEAR   MAKE       MODEL VEHICLECLASS  ENGINESIZE  CYLINDERS  \\\n",
            "0       2014  ACURA         ILX      COMPACT         2.0          4   \n",
            "1       2014  ACURA         ILX      COMPACT         2.4          4   \n",
            "2       2014  ACURA  ILX HYBRID      COMPACT         1.5          4   \n",
            "3       2014  ACURA     MDX 4WD  SUV - SMALL         3.5          6   \n",
            "4       2014  ACURA     RDX AWD  SUV - SMALL         3.5          6   \n",
            "\n",
            "  TRANSMISSION FUELTYPE  FUELCONSUMPTION_CITY  FUELCONSUMPTION_HWY  \\\n",
            "0          AS5        Z                   9.9                  6.7   \n",
            "1           M6        Z                  11.2                  7.7   \n",
            "2          AV7        Z                   6.0                  5.8   \n",
            "3          AS6        Z                  12.7                  9.1   \n",
            "4          AS6        Z                  12.1                  8.7   \n",
            "\n",
            "   FUELCONSUMPTION_COMB  FUELCONSUMPTION_COMB_MPG  CO2EMISSIONS  \n",
            "0                   8.5                        33           196  \n",
            "1                   9.6                        29           221  \n",
            "2                   5.9                        48           136  \n",
            "3                  11.1                        25           255  \n",
            "4                  10.6                        27           244  \n",
            "       MODELYEAR   ENGINESIZE    CYLINDERS  FUELCONSUMPTION_CITY  \\\n",
            "count     1067.0  1067.000000  1067.000000           1067.000000   \n",
            "mean      2014.0     3.346298     5.794752             13.296532   \n",
            "std          0.0     1.415895     1.797447              4.101253   \n",
            "min       2014.0     1.000000     3.000000              4.600000   \n",
            "25%       2014.0     2.000000     4.000000             10.250000   \n",
            "50%       2014.0     3.400000     6.000000             12.600000   \n",
            "75%       2014.0     4.300000     8.000000             15.550000   \n",
            "max       2014.0     8.400000    12.000000             30.200000   \n",
            "\n",
            "       FUELCONSUMPTION_HWY  FUELCONSUMPTION_COMB  FUELCONSUMPTION_COMB_MPG  \\\n",
            "count          1067.000000           1067.000000               1067.000000   \n",
            "mean              9.474602             11.580881                 26.441425   \n",
            "std               2.794510              3.485595                  7.468702   \n",
            "min               4.900000              4.700000                 11.000000   \n",
            "25%               7.500000              9.000000                 21.000000   \n",
            "50%               8.800000             10.900000                 26.000000   \n",
            "75%              10.850000             13.350000                 31.000000   \n",
            "max              20.500000             25.800000                 60.000000   \n",
            "\n",
            "       CO2EMISSIONS  \n",
            "count   1067.000000  \n",
            "mean     256.228679  \n",
            "std       63.372304  \n",
            "min      108.000000  \n",
            "25%      207.000000  \n",
            "50%      251.000000  \n",
            "75%      294.000000  \n",
            "max      488.000000  \n"
          ]
        }
      ]
    },
    {
      "cell_type": "markdown",
      "source": [
        "pd.read_csv() reads CSV into a DataFrame (like an Excel sheet).\n",
        "\n",
        "df.head() → shows first 5 rows (quick peek at data).\n",
        "\n",
        "df.describe() → gives statistics: mean, min, max, standard deviation, etc."
      ],
      "metadata": {
        "id": "oOdJjrzGn4_1"
      }
    },
    {
      "cell_type": "markdown",
      "source": [
        "### Step 4: Selecting Useful Features"
      ],
      "metadata": {
        "id": "XD5ODGONn8TJ"
      }
    },
    {
      "cell_type": "code",
      "source": [
        "cdf = df[[\"ENGINESIZE\", \"CYLINDERS\", \"FUELCONSUMPTION_COMB\", \"CO2EMISSIONS\"]]\n",
        "print(cdf.head(9))\n"
      ],
      "metadata": {
        "colab": {
          "base_uri": "https://localhost:8080/"
        },
        "id": "zq5XLN0Yn1ns",
        "outputId": "ed5e81d1-4939-4e48-9f8c-dad821d22385"
      },
      "execution_count": 4,
      "outputs": [
        {
          "output_type": "stream",
          "name": "stdout",
          "text": [
            "   ENGINESIZE  CYLINDERS  FUELCONSUMPTION_COMB  CO2EMISSIONS\n",
            "0         2.0          4                   8.5           196\n",
            "1         2.4          4                   9.6           221\n",
            "2         1.5          4                   5.9           136\n",
            "3         3.5          6                  11.1           255\n",
            "4         3.5          6                  10.6           244\n",
            "5         3.5          6                  10.0           230\n",
            "6         3.5          6                  10.1           232\n",
            "7         3.7          6                  11.1           255\n",
            "8         3.7          6                  11.6           267\n"
          ]
        }
      ]
    },
    {
      "cell_type": "markdown",
      "source": [
        "We don’t need all columns. We only keep:\n",
        "\n",
        "ENGINESIZE → size of engine (independent variable X).\n",
        "\n",
        "CYLINDERS → number of cylinders in car engine.\n",
        "\n",
        "FUELCONSUMPTION_COMB → combined fuel consumption.\n",
        "\n",
        "CO2EMISSIONS → emissions we want to predict (dependent variable Y)."
      ],
      "metadata": {
        "id": "VmKRfw0uoEcJ"
      }
    },
    {
      "cell_type": "markdown",
      "source": [
        "### Step 5: Splitting Data into Train & Test"
      ],
      "metadata": {
        "id": "E91XEX7uoHZ0"
      }
    },
    {
      "cell_type": "code",
      "source": [
        "msk = np.random.rand(len(df)) < 0.8   # 80% True, 20% False\n",
        "train = cdf[msk]   # training set\n",
        "test = cdf[~msk]   # testing set"
      ],
      "metadata": {
        "id": "WByHa7Ahn_wa"
      },
      "execution_count": 5,
      "outputs": []
    },
    {
      "cell_type": "markdown",
      "source": [
        "We split data into training set (80%) and testing set (20%).\n",
        "\n",
        "Training set → used to train the model.\n",
        "\n",
        "Testing set → used to check accuracy on unseen data.\n",
        "\n",
        "This prevents overfitting (memorizing instead of learning)"
      ],
      "metadata": {
        "id": "kQ49LOKjoO6u"
      }
    },
    {
      "cell_type": "markdown",
      "source": [
        "### Step 6: Training Linear Regression Model"
      ],
      "metadata": {
        "id": "5b6KDtnyoSw7"
      }
    },
    {
      "cell_type": "code",
      "source": [
        "from sklearn import linear_model\n",
        "\n",
        "regr = linear_model.LinearRegression()  # create regression model\n",
        "\n",
        "train_x = np.asanyarray(train[[\"ENGINESIZE\"]])  # input X\n",
        "train_y = np.asanyarray(train[[\"CO2EMISSIONS\"]])  # output Y\n",
        "\n",
        "regr.fit(train_x, train_y)   # fit model to training data\n"
      ],
      "metadata": {
        "colab": {
          "base_uri": "https://localhost:8080/",
          "height": 80
        },
        "id": "S2Ld-TkaoKvI",
        "outputId": "ef198096-00a1-427e-8ea4-ce5858aac00c"
      },
      "execution_count": 6,
      "outputs": [
        {
          "output_type": "execute_result",
          "data": {
            "text/plain": [
              "LinearRegression()"
            ],
            "text/html": [
              "<style>#sk-container-id-1 {\n",
              "  /* Definition of color scheme common for light and dark mode */\n",
              "  --sklearn-color-text: #000;\n",
              "  --sklearn-color-text-muted: #666;\n",
              "  --sklearn-color-line: gray;\n",
              "  /* Definition of color scheme for unfitted estimators */\n",
              "  --sklearn-color-unfitted-level-0: #fff5e6;\n",
              "  --sklearn-color-unfitted-level-1: #f6e4d2;\n",
              "  --sklearn-color-unfitted-level-2: #ffe0b3;\n",
              "  --sklearn-color-unfitted-level-3: chocolate;\n",
              "  /* Definition of color scheme for fitted estimators */\n",
              "  --sklearn-color-fitted-level-0: #f0f8ff;\n",
              "  --sklearn-color-fitted-level-1: #d4ebff;\n",
              "  --sklearn-color-fitted-level-2: #b3dbfd;\n",
              "  --sklearn-color-fitted-level-3: cornflowerblue;\n",
              "\n",
              "  /* Specific color for light theme */\n",
              "  --sklearn-color-text-on-default-background: var(--sg-text-color, var(--theme-code-foreground, var(--jp-content-font-color1, black)));\n",
              "  --sklearn-color-background: var(--sg-background-color, var(--theme-background, var(--jp-layout-color0, white)));\n",
              "  --sklearn-color-border-box: var(--sg-text-color, var(--theme-code-foreground, var(--jp-content-font-color1, black)));\n",
              "  --sklearn-color-icon: #696969;\n",
              "\n",
              "  @media (prefers-color-scheme: dark) {\n",
              "    /* Redefinition of color scheme for dark theme */\n",
              "    --sklearn-color-text-on-default-background: var(--sg-text-color, var(--theme-code-foreground, var(--jp-content-font-color1, white)));\n",
              "    --sklearn-color-background: var(--sg-background-color, var(--theme-background, var(--jp-layout-color0, #111)));\n",
              "    --sklearn-color-border-box: var(--sg-text-color, var(--theme-code-foreground, var(--jp-content-font-color1, white)));\n",
              "    --sklearn-color-icon: #878787;\n",
              "  }\n",
              "}\n",
              "\n",
              "#sk-container-id-1 {\n",
              "  color: var(--sklearn-color-text);\n",
              "}\n",
              "\n",
              "#sk-container-id-1 pre {\n",
              "  padding: 0;\n",
              "}\n",
              "\n",
              "#sk-container-id-1 input.sk-hidden--visually {\n",
              "  border: 0;\n",
              "  clip: rect(1px 1px 1px 1px);\n",
              "  clip: rect(1px, 1px, 1px, 1px);\n",
              "  height: 1px;\n",
              "  margin: -1px;\n",
              "  overflow: hidden;\n",
              "  padding: 0;\n",
              "  position: absolute;\n",
              "  width: 1px;\n",
              "}\n",
              "\n",
              "#sk-container-id-1 div.sk-dashed-wrapped {\n",
              "  border: 1px dashed var(--sklearn-color-line);\n",
              "  margin: 0 0.4em 0.5em 0.4em;\n",
              "  box-sizing: border-box;\n",
              "  padding-bottom: 0.4em;\n",
              "  background-color: var(--sklearn-color-background);\n",
              "}\n",
              "\n",
              "#sk-container-id-1 div.sk-container {\n",
              "  /* jupyter's `normalize.less` sets `[hidden] { display: none; }`\n",
              "     but bootstrap.min.css set `[hidden] { display: none !important; }`\n",
              "     so we also need the `!important` here to be able to override the\n",
              "     default hidden behavior on the sphinx rendered scikit-learn.org.\n",
              "     See: https://github.com/scikit-learn/scikit-learn/issues/21755 */\n",
              "  display: inline-block !important;\n",
              "  position: relative;\n",
              "}\n",
              "\n",
              "#sk-container-id-1 div.sk-text-repr-fallback {\n",
              "  display: none;\n",
              "}\n",
              "\n",
              "div.sk-parallel-item,\n",
              "div.sk-serial,\n",
              "div.sk-item {\n",
              "  /* draw centered vertical line to link estimators */\n",
              "  background-image: linear-gradient(var(--sklearn-color-text-on-default-background), var(--sklearn-color-text-on-default-background));\n",
              "  background-size: 2px 100%;\n",
              "  background-repeat: no-repeat;\n",
              "  background-position: center center;\n",
              "}\n",
              "\n",
              "/* Parallel-specific style estimator block */\n",
              "\n",
              "#sk-container-id-1 div.sk-parallel-item::after {\n",
              "  content: \"\";\n",
              "  width: 100%;\n",
              "  border-bottom: 2px solid var(--sklearn-color-text-on-default-background);\n",
              "  flex-grow: 1;\n",
              "}\n",
              "\n",
              "#sk-container-id-1 div.sk-parallel {\n",
              "  display: flex;\n",
              "  align-items: stretch;\n",
              "  justify-content: center;\n",
              "  background-color: var(--sklearn-color-background);\n",
              "  position: relative;\n",
              "}\n",
              "\n",
              "#sk-container-id-1 div.sk-parallel-item {\n",
              "  display: flex;\n",
              "  flex-direction: column;\n",
              "}\n",
              "\n",
              "#sk-container-id-1 div.sk-parallel-item:first-child::after {\n",
              "  align-self: flex-end;\n",
              "  width: 50%;\n",
              "}\n",
              "\n",
              "#sk-container-id-1 div.sk-parallel-item:last-child::after {\n",
              "  align-self: flex-start;\n",
              "  width: 50%;\n",
              "}\n",
              "\n",
              "#sk-container-id-1 div.sk-parallel-item:only-child::after {\n",
              "  width: 0;\n",
              "}\n",
              "\n",
              "/* Serial-specific style estimator block */\n",
              "\n",
              "#sk-container-id-1 div.sk-serial {\n",
              "  display: flex;\n",
              "  flex-direction: column;\n",
              "  align-items: center;\n",
              "  background-color: var(--sklearn-color-background);\n",
              "  padding-right: 1em;\n",
              "  padding-left: 1em;\n",
              "}\n",
              "\n",
              "\n",
              "/* Toggleable style: style used for estimator/Pipeline/ColumnTransformer box that is\n",
              "clickable and can be expanded/collapsed.\n",
              "- Pipeline and ColumnTransformer use this feature and define the default style\n",
              "- Estimators will overwrite some part of the style using the `sk-estimator` class\n",
              "*/\n",
              "\n",
              "/* Pipeline and ColumnTransformer style (default) */\n",
              "\n",
              "#sk-container-id-1 div.sk-toggleable {\n",
              "  /* Default theme specific background. It is overwritten whether we have a\n",
              "  specific estimator or a Pipeline/ColumnTransformer */\n",
              "  background-color: var(--sklearn-color-background);\n",
              "}\n",
              "\n",
              "/* Toggleable label */\n",
              "#sk-container-id-1 label.sk-toggleable__label {\n",
              "  cursor: pointer;\n",
              "  display: flex;\n",
              "  width: 100%;\n",
              "  margin-bottom: 0;\n",
              "  padding: 0.5em;\n",
              "  box-sizing: border-box;\n",
              "  text-align: center;\n",
              "  align-items: start;\n",
              "  justify-content: space-between;\n",
              "  gap: 0.5em;\n",
              "}\n",
              "\n",
              "#sk-container-id-1 label.sk-toggleable__label .caption {\n",
              "  font-size: 0.6rem;\n",
              "  font-weight: lighter;\n",
              "  color: var(--sklearn-color-text-muted);\n",
              "}\n",
              "\n",
              "#sk-container-id-1 label.sk-toggleable__label-arrow:before {\n",
              "  /* Arrow on the left of the label */\n",
              "  content: \"▸\";\n",
              "  float: left;\n",
              "  margin-right: 0.25em;\n",
              "  color: var(--sklearn-color-icon);\n",
              "}\n",
              "\n",
              "#sk-container-id-1 label.sk-toggleable__label-arrow:hover:before {\n",
              "  color: var(--sklearn-color-text);\n",
              "}\n",
              "\n",
              "/* Toggleable content - dropdown */\n",
              "\n",
              "#sk-container-id-1 div.sk-toggleable__content {\n",
              "  max-height: 0;\n",
              "  max-width: 0;\n",
              "  overflow: hidden;\n",
              "  text-align: left;\n",
              "  /* unfitted */\n",
              "  background-color: var(--sklearn-color-unfitted-level-0);\n",
              "}\n",
              "\n",
              "#sk-container-id-1 div.sk-toggleable__content.fitted {\n",
              "  /* fitted */\n",
              "  background-color: var(--sklearn-color-fitted-level-0);\n",
              "}\n",
              "\n",
              "#sk-container-id-1 div.sk-toggleable__content pre {\n",
              "  margin: 0.2em;\n",
              "  border-radius: 0.25em;\n",
              "  color: var(--sklearn-color-text);\n",
              "  /* unfitted */\n",
              "  background-color: var(--sklearn-color-unfitted-level-0);\n",
              "}\n",
              "\n",
              "#sk-container-id-1 div.sk-toggleable__content.fitted pre {\n",
              "  /* unfitted */\n",
              "  background-color: var(--sklearn-color-fitted-level-0);\n",
              "}\n",
              "\n",
              "#sk-container-id-1 input.sk-toggleable__control:checked~div.sk-toggleable__content {\n",
              "  /* Expand drop-down */\n",
              "  max-height: 200px;\n",
              "  max-width: 100%;\n",
              "  overflow: auto;\n",
              "}\n",
              "\n",
              "#sk-container-id-1 input.sk-toggleable__control:checked~label.sk-toggleable__label-arrow:before {\n",
              "  content: \"▾\";\n",
              "}\n",
              "\n",
              "/* Pipeline/ColumnTransformer-specific style */\n",
              "\n",
              "#sk-container-id-1 div.sk-label input.sk-toggleable__control:checked~label.sk-toggleable__label {\n",
              "  color: var(--sklearn-color-text);\n",
              "  background-color: var(--sklearn-color-unfitted-level-2);\n",
              "}\n",
              "\n",
              "#sk-container-id-1 div.sk-label.fitted input.sk-toggleable__control:checked~label.sk-toggleable__label {\n",
              "  background-color: var(--sklearn-color-fitted-level-2);\n",
              "}\n",
              "\n",
              "/* Estimator-specific style */\n",
              "\n",
              "/* Colorize estimator box */\n",
              "#sk-container-id-1 div.sk-estimator input.sk-toggleable__control:checked~label.sk-toggleable__label {\n",
              "  /* unfitted */\n",
              "  background-color: var(--sklearn-color-unfitted-level-2);\n",
              "}\n",
              "\n",
              "#sk-container-id-1 div.sk-estimator.fitted input.sk-toggleable__control:checked~label.sk-toggleable__label {\n",
              "  /* fitted */\n",
              "  background-color: var(--sklearn-color-fitted-level-2);\n",
              "}\n",
              "\n",
              "#sk-container-id-1 div.sk-label label.sk-toggleable__label,\n",
              "#sk-container-id-1 div.sk-label label {\n",
              "  /* The background is the default theme color */\n",
              "  color: var(--sklearn-color-text-on-default-background);\n",
              "}\n",
              "\n",
              "/* On hover, darken the color of the background */\n",
              "#sk-container-id-1 div.sk-label:hover label.sk-toggleable__label {\n",
              "  color: var(--sklearn-color-text);\n",
              "  background-color: var(--sklearn-color-unfitted-level-2);\n",
              "}\n",
              "\n",
              "/* Label box, darken color on hover, fitted */\n",
              "#sk-container-id-1 div.sk-label.fitted:hover label.sk-toggleable__label.fitted {\n",
              "  color: var(--sklearn-color-text);\n",
              "  background-color: var(--sklearn-color-fitted-level-2);\n",
              "}\n",
              "\n",
              "/* Estimator label */\n",
              "\n",
              "#sk-container-id-1 div.sk-label label {\n",
              "  font-family: monospace;\n",
              "  font-weight: bold;\n",
              "  display: inline-block;\n",
              "  line-height: 1.2em;\n",
              "}\n",
              "\n",
              "#sk-container-id-1 div.sk-label-container {\n",
              "  text-align: center;\n",
              "}\n",
              "\n",
              "/* Estimator-specific */\n",
              "#sk-container-id-1 div.sk-estimator {\n",
              "  font-family: monospace;\n",
              "  border: 1px dotted var(--sklearn-color-border-box);\n",
              "  border-radius: 0.25em;\n",
              "  box-sizing: border-box;\n",
              "  margin-bottom: 0.5em;\n",
              "  /* unfitted */\n",
              "  background-color: var(--sklearn-color-unfitted-level-0);\n",
              "}\n",
              "\n",
              "#sk-container-id-1 div.sk-estimator.fitted {\n",
              "  /* fitted */\n",
              "  background-color: var(--sklearn-color-fitted-level-0);\n",
              "}\n",
              "\n",
              "/* on hover */\n",
              "#sk-container-id-1 div.sk-estimator:hover {\n",
              "  /* unfitted */\n",
              "  background-color: var(--sklearn-color-unfitted-level-2);\n",
              "}\n",
              "\n",
              "#sk-container-id-1 div.sk-estimator.fitted:hover {\n",
              "  /* fitted */\n",
              "  background-color: var(--sklearn-color-fitted-level-2);\n",
              "}\n",
              "\n",
              "/* Specification for estimator info (e.g. \"i\" and \"?\") */\n",
              "\n",
              "/* Common style for \"i\" and \"?\" */\n",
              "\n",
              ".sk-estimator-doc-link,\n",
              "a:link.sk-estimator-doc-link,\n",
              "a:visited.sk-estimator-doc-link {\n",
              "  float: right;\n",
              "  font-size: smaller;\n",
              "  line-height: 1em;\n",
              "  font-family: monospace;\n",
              "  background-color: var(--sklearn-color-background);\n",
              "  border-radius: 1em;\n",
              "  height: 1em;\n",
              "  width: 1em;\n",
              "  text-decoration: none !important;\n",
              "  margin-left: 0.5em;\n",
              "  text-align: center;\n",
              "  /* unfitted */\n",
              "  border: var(--sklearn-color-unfitted-level-1) 1pt solid;\n",
              "  color: var(--sklearn-color-unfitted-level-1);\n",
              "}\n",
              "\n",
              ".sk-estimator-doc-link.fitted,\n",
              "a:link.sk-estimator-doc-link.fitted,\n",
              "a:visited.sk-estimator-doc-link.fitted {\n",
              "  /* fitted */\n",
              "  border: var(--sklearn-color-fitted-level-1) 1pt solid;\n",
              "  color: var(--sklearn-color-fitted-level-1);\n",
              "}\n",
              "\n",
              "/* On hover */\n",
              "div.sk-estimator:hover .sk-estimator-doc-link:hover,\n",
              ".sk-estimator-doc-link:hover,\n",
              "div.sk-label-container:hover .sk-estimator-doc-link:hover,\n",
              ".sk-estimator-doc-link:hover {\n",
              "  /* unfitted */\n",
              "  background-color: var(--sklearn-color-unfitted-level-3);\n",
              "  color: var(--sklearn-color-background);\n",
              "  text-decoration: none;\n",
              "}\n",
              "\n",
              "div.sk-estimator.fitted:hover .sk-estimator-doc-link.fitted:hover,\n",
              ".sk-estimator-doc-link.fitted:hover,\n",
              "div.sk-label-container:hover .sk-estimator-doc-link.fitted:hover,\n",
              ".sk-estimator-doc-link.fitted:hover {\n",
              "  /* fitted */\n",
              "  background-color: var(--sklearn-color-fitted-level-3);\n",
              "  color: var(--sklearn-color-background);\n",
              "  text-decoration: none;\n",
              "}\n",
              "\n",
              "/* Span, style for the box shown on hovering the info icon */\n",
              ".sk-estimator-doc-link span {\n",
              "  display: none;\n",
              "  z-index: 9999;\n",
              "  position: relative;\n",
              "  font-weight: normal;\n",
              "  right: .2ex;\n",
              "  padding: .5ex;\n",
              "  margin: .5ex;\n",
              "  width: min-content;\n",
              "  min-width: 20ex;\n",
              "  max-width: 50ex;\n",
              "  color: var(--sklearn-color-text);\n",
              "  box-shadow: 2pt 2pt 4pt #999;\n",
              "  /* unfitted */\n",
              "  background: var(--sklearn-color-unfitted-level-0);\n",
              "  border: .5pt solid var(--sklearn-color-unfitted-level-3);\n",
              "}\n",
              "\n",
              ".sk-estimator-doc-link.fitted span {\n",
              "  /* fitted */\n",
              "  background: var(--sklearn-color-fitted-level-0);\n",
              "  border: var(--sklearn-color-fitted-level-3);\n",
              "}\n",
              "\n",
              ".sk-estimator-doc-link:hover span {\n",
              "  display: block;\n",
              "}\n",
              "\n",
              "/* \"?\"-specific style due to the `<a>` HTML tag */\n",
              "\n",
              "#sk-container-id-1 a.estimator_doc_link {\n",
              "  float: right;\n",
              "  font-size: 1rem;\n",
              "  line-height: 1em;\n",
              "  font-family: monospace;\n",
              "  background-color: var(--sklearn-color-background);\n",
              "  border-radius: 1rem;\n",
              "  height: 1rem;\n",
              "  width: 1rem;\n",
              "  text-decoration: none;\n",
              "  /* unfitted */\n",
              "  color: var(--sklearn-color-unfitted-level-1);\n",
              "  border: var(--sklearn-color-unfitted-level-1) 1pt solid;\n",
              "}\n",
              "\n",
              "#sk-container-id-1 a.estimator_doc_link.fitted {\n",
              "  /* fitted */\n",
              "  border: var(--sklearn-color-fitted-level-1) 1pt solid;\n",
              "  color: var(--sklearn-color-fitted-level-1);\n",
              "}\n",
              "\n",
              "/* On hover */\n",
              "#sk-container-id-1 a.estimator_doc_link:hover {\n",
              "  /* unfitted */\n",
              "  background-color: var(--sklearn-color-unfitted-level-3);\n",
              "  color: var(--sklearn-color-background);\n",
              "  text-decoration: none;\n",
              "}\n",
              "\n",
              "#sk-container-id-1 a.estimator_doc_link.fitted:hover {\n",
              "  /* fitted */\n",
              "  background-color: var(--sklearn-color-fitted-level-3);\n",
              "}\n",
              "</style><div id=\"sk-container-id-1\" class=\"sk-top-container\"><div class=\"sk-text-repr-fallback\"><pre>LinearRegression()</pre><b>In a Jupyter environment, please rerun this cell to show the HTML representation or trust the notebook. <br />On GitHub, the HTML representation is unable to render, please try loading this page with nbviewer.org.</b></div><div class=\"sk-container\" hidden><div class=\"sk-item\"><div class=\"sk-estimator fitted sk-toggleable\"><input class=\"sk-toggleable__control sk-hidden--visually\" id=\"sk-estimator-id-1\" type=\"checkbox\" checked><label for=\"sk-estimator-id-1\" class=\"sk-toggleable__label fitted sk-toggleable__label-arrow\"><div><div>LinearRegression</div></div><div><a class=\"sk-estimator-doc-link fitted\" rel=\"noreferrer\" target=\"_blank\" href=\"https://scikit-learn.org/1.6/modules/generated/sklearn.linear_model.LinearRegression.html\">?<span>Documentation for LinearRegression</span></a><span class=\"sk-estimator-doc-link fitted\">i<span>Fitted</span></span></div></label><div class=\"sk-toggleable__content fitted\"><pre>LinearRegression()</pre></div> </div></div></div></div>"
            ]
          },
          "metadata": {},
          "execution_count": 6
        }
      ]
    },
    {
      "cell_type": "markdown",
      "source": [
        "We use **scikit-learn's** `LinearRegression()`.\n",
        "\n",
        "- **Input (X)** = Engine size  \n",
        "- **Output (Y)** = CO$_2$ Emissions  \n",
        "\n",
        "The `fit()` method trains the model → it calculates the **best slope** and **intercept**.  \n",
        "\n",
        "So the model learns the equation:\n",
        "\n",
        "$$\n",
        "y = m \\cdot x + b\n",
        "$$\n",
        "\n",
        "Where:  \n",
        "\n",
        "- $m$ = slope (coefficient)  \n",
        "- $b$ = intercept (bias)  \n"
      ],
      "metadata": {
        "id": "UNE5Gbypoe1c"
      }
    },
    {
      "cell_type": "markdown",
      "source": [
        "### Step 7: Checking Model Parameters"
      ],
      "metadata": {
        "id": "g0PR4k6DokB6"
      }
    },
    {
      "cell_type": "code",
      "source": [
        "print(\"Coefficients (slope): \", regr.coef_)\n",
        "print(\"Intercept (bias): \", regr.intercept_)\n"
      ],
      "metadata": {
        "colab": {
          "base_uri": "https://localhost:8080/"
        },
        "id": "CYbOlByioVy4",
        "outputId": "7a66f1a1-9b73-46a2-9153-75ffcaab1998"
      },
      "execution_count": 7,
      "outputs": [
        {
          "output_type": "stream",
          "name": "stdout",
          "text": [
            "Coefficients (slope):  [[38.94403907]]\n",
            "Intercept (bias):  [125.36138005]\n"
          ]
        }
      ]
    },
    {
      "cell_type": "markdown",
      "source": [
        "The coefficient tells how much emissions increase if engine size increases by 1 unit.\n",
        "\n",
        "The intercept tells emissions when engine size = 0.\n",
        "\n",
        "This gives us the line of best fit."
      ],
      "metadata": {
        "id": "p0no72BSoprM"
      }
    },
    {
      "cell_type": "markdown",
      "source": [
        "### Step 8: Visualizing Regression Line"
      ],
      "metadata": {
        "id": "8MLD_DWOousn"
      }
    },
    {
      "cell_type": "code",
      "source": [
        "plt.scatter(train.ENGINESIZE, train.CO2EMISSIONS, color=\"blue\")   # scatter plot\n",
        "plt.plot(train_x, regr.coef_[0][0]*train_x + regr.intercept_[0], \"-r\")   # regression line\n",
        "plt.xlabel(\"Engine size\")\n",
        "plt.ylabel(\"Emission\")\n",
        "# plt.show()\n"
      ],
      "metadata": {
        "colab": {
          "base_uri": "https://localhost:8080/",
          "height": 466
        },
        "id": "T_l25PONonMM",
        "outputId": "d26d9030-e2a8-4cfc-f7e1-1bf13508e96b"
      },
      "execution_count": 8,
      "outputs": [
        {
          "output_type": "execute_result",
          "data": {
            "text/plain": [
              "Text(0, 0.5, 'Emission')"
            ]
          },
          "metadata": {},
          "execution_count": 8
        },
        {
          "output_type": "display_data",
          "data": {
            "text/plain": [
              "<Figure size 640x480 with 1 Axes>"
            ],
            "image/png": "[encoded data removed]"
          },
          "metadata": {}
        }
      ]
    },
    {
      "cell_type": "markdown",
      "source": [
        "Blue dots = actual data points.\n",
        "\n",
        "Red line = predicted linear regression line.\n",
        "\n",
        "If the line is close to points → model fits well"
      ],
      "metadata": {
        "id": "DSVzJBxCo0gE"
      }
    },
    {
      "cell_type": "markdown",
      "source": [
        "### Step 9: Model Evaluation"
      ],
      "metadata": {
        "id": "s32ZHcmPo9iJ"
      }
    },
    {
      "cell_type": "code",
      "source": [
        "from sklearn.metrics import r2_score\n",
        "\n",
        "test_x = np.asanyarray(test[[\"ENGINESIZE\"]])\n",
        "test_y = np.asanyarray(test[[\"CO2EMISSIONS\"]])\n",
        "test_y_pred = regr.predict(test_x)   # predict using model\n",
        "\n",
        "print(\"Mean absolute error: %.2f\" % np.mean(np.absolute(test_y_pred - test_y)))\n",
        "print(\"Residual sum of squares (MSE): %.2f\" % np.mean((test_y_pred - test_y) ** 2))\n",
        "print(\"R2-score: %.2f\" % r2_score(test_y, test_y_pred))\n"
      ],
      "metadata": {
        "colab": {
          "base_uri": "https://localhost:8080/"
        },
        "id": "y761Rhsfoxc2",
        "outputId": "d3c24d76-148c-45d8-f936-53848486e550"
      },
      "execution_count": 9,
      "outputs": [
        {
          "output_type": "stream",
          "name": "stdout",
          "text": [
            "Mean absolute error: 22.98\n",
            "Residual sum of squares (MSE): 864.67\n",
            "R2-score: 0.80\n"
          ]
        }
      ]
    },
    {
      "cell_type": "markdown",
      "source": [
        "We check how well our model predicts:\n",
        "\n",
        "MAE (Mean Absolute Error) → average absolute error (small = better).\n",
        "\n",
        "MSE (Mean Squared Error) → penalizes large errors (smaller = better).\n",
        "\n",
        "R² Score → how much of the variance in data is explained by model (closer to 1 = better)"
      ],
      "metadata": {
        "id": "9c27vqLypEOh"
      }
    },
    {
      "cell_type": "markdown",
      "source": [
        "**Accuracy (R² = 0.80)**\n",
        "\n",
        "The model explains 80% of the variation in CO₂ emissions using only engine size.\n",
        "\n",
        "That’s quite good for a single-variable model.\n",
        "\n",
        "**Error Level (MAE ≈ 23 g/km)**\n",
        "\n",
        "On average, predictions are off by about 23 grams per km.\n",
        "\n",
        "Considering emissions typically range 100–400 g/km, this is moderately small error.\n",
        "\n",
        "**Outliers Effect (MSE = 864.67)**\n",
        "\n",
        "Some predictions are off by a bigger margin (30–50 g/km).\n",
        "\n",
        "Indicates that engine size alone cannot explain all cases.\n",
        "\n",
        "**Model Simplicity**\n",
        "\n",
        "Uses only one feature (engine size) → very simple and easy to interpret.\n",
        "\n",
        "But simplicity limits accuracy — ignores other important factors like fuel type, weight, cylinders.\n",
        "\n",
        "**Generalization**\n",
        "\n",
        "Performs decently on test data → not overfitting.\n",
        "\n",
        "Can generalize to unseen cars fairly well, but not perfectly."
      ],
      "metadata": {
        "id": "qOwUCNUeppMa"
      }
    },
    {
      "cell_type": "code",
      "source": [],
      "metadata": {
        "id": "8jzN8MOVo_1C"
      },
      "execution_count": null,
      "outputs": []
    }
  ]
}