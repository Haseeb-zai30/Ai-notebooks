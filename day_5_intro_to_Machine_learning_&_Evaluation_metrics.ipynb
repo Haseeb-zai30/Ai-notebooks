{
  "nbformat": 4,
  "nbformat_minor": 0,
  "metadata": {
    "colab": {
      "provenance": [],
      "authorship_tag": "ABX9TyPSSC7vUEjtbrLmDNNzPUYA",
      "include_colab_link": true
    },
    "kernelspec": {
      "name": "python3",
      "display_name": "Python 3"
    },
    "language_info": {
      "name": "python"
    }
  },
  "cells": [
    {
      "cell_type": "markdown",
      "metadata": {
        "id": "view-in-github",
        "colab_type": "text"
      },
      "source": [
        "<a href=\"https://colab.research.google.com/github/Haseeb-zai30/Ai-notebooks/blob/main/day_5_intro_to_Machine_learning_%26_Evaluation_metrics.ipynb\" target=\"_parent\"><img src=\"https://colab.research.google.com/assets/colab-badge.svg\" alt=\"Open In Colab\"/></a>"
      ]
    },
    {
      "cell_type": "markdown",
      "source": [
        "## INTRODUCTION TO MACHINE LEARNING\n"
      ],
      "metadata": {
        "id": "Jce4J9kVbkVw"
      }
    },
    {
      "cell_type": "markdown",
      "source": [
        "Machine Learning (ML) is a subfield of Artificial Intelligence (AI) that allows computers to learn patterns from data and make predictions or decisions without being explicitly programmed for every scenario.\n",
        "\n",
        "**Traditional programming**: You write rules (if-else conditions) → machine follows them.\n",
        "\n",
        "**Machine Learning**: You give data + expected results → machine learns rules by itself.\n",
        "\n",
        "**Key Idea:**\n",
        "\n",
        "Instead of hard-coding logic, we train a model on data so it can generalize to unseen situations."
      ],
      "metadata": {
        "id": "k6TvSR04ej_-"
      }
    },
    {
      "cell_type": "markdown",
      "source": [
        "**Example:**\n",
        "\n",
        "**Spam Email Detection**\n",
        "\n",
        "**Input:** Email text\n",
        "\n",
        "**Output:** Spam (1) or Not Spam (0)\n",
        "\n",
        "ML model learns from past labeled emails."
      ],
      "metadata": {
        "id": "DiBYH-n8e2_T"
      }
    },
    {
      "cell_type": "markdown",
      "source": [
        "### Why Machine Learning?\n",
        "\n",
        "Handles large-scale data better than manual programming.\n",
        "\n",
        "Learns hidden patterns not obvious to humans.\n",
        "\n",
        "Adapts to new, unseen data.\n",
        "\n",
        "Forms the base for modern AI applications:\n",
        "\n",
        "Speech recognition (e.g., Siri, Google Assistant)\n",
        "\n",
        "Image recognition (e.g., Face Unlock)\n",
        "\n",
        "Recommendation systems (e.g., Netflix, YouTube)"
      ],
      "metadata": {
        "id": "iChZ4Fqke--f"
      }
    },
    {
      "cell_type": "markdown",
      "source": [
        "## Mathematical Perspective\n",
        "\n",
        "A Machine Learning model tries to find a function:\n",
        "\n",
        "                          \n",
        "#                              𝑦=𝑓(𝑥)+𝜖\n",
        "\n",
        "Where:\n",
        "\n",
        "𝑥 = input (features, e.g., house size, number of rooms)\n",
        "\n",
        "𝑦 = output (target, e.g., house price)\n",
        "\n",
        "𝜖 = error (difference between predicted and actual)"
      ],
      "metadata": {
        "id": "axaQrM9gfKMY"
      }
    },
    {
      "cell_type": "code",
      "execution_count": null,
      "metadata": {
        "id": "dsLwQ2lZbN9U"
      },
      "outputs": [],
      "source": []
    },
    {
      "cell_type": "markdown",
      "source": [
        "## Types of Machine Learning\n",
        "### Supervised Learning:\n",
        "\n",
        "**Meaning:** The model learns from labeled data (data with both input and correct output).\n",
        "\n",
        "**Goal:** Predict outcomes for new, unseen data.\n",
        "\n",
        "**Examples:**\n",
        "\n",
        "**Regression** → Predicting house prices based on size and location.\n",
        "\n",
        "**Classification** → Email spam filter (spam or not spam).\n",
        "\n",
        "### 2. Unsupervised Learning\n",
        "\n",
        "**Meaning:** The model learns from unlabeled data (only inputs, no outputs).\n",
        "\n",
        "**Goal:** Find hidden patterns or groupings.\n",
        "\n",
        "**Examples:**\n",
        "\n",
        "**Clustering** → Customer segmentation  (grouping customers by buying habits).\n",
        "\n",
        "**Dimensionality Reduction** → Compressing image data  while keeping important features.\n",
        "\n",
        "### 3. Semi-Supervised Learning\n",
        "\n",
        "**Meaning:** Uses a small amount of labeled data + a large amount of unlabeled data.\n",
        "\n",
        "**Goal:** Improve learning when labeling all data is too costly or difficult.\n",
        "\n",
        "**Examples:**\n",
        "\n",
        "**Medical diagnosis** → Few labeled scans (with doctor’s notes) + many unlabeled scans.\n",
        "\n",
        "**Speech recognition** → A few labeled audio clips + lots of raw recordings.\n",
        "\n",
        "###4. Reinforcement Learning (RL)\n",
        "\n",
        "**Meaning:** An agent learns by interacting with an environment and receiving rewards or penalties.\n",
        "\n",
        "**Goal:** Maximize rewards over time.\n",
        "\n",
        "**Examples:**\n",
        "\n",
        "**Self-driving cars**  → Learn to drive safely by trial and error.\n",
        "\n",
        "**Games**  → An AI playing chess or Atari learns by winning/losing."
      ],
      "metadata": {
        "id": "Y8X5qv21jnTf"
      }
    },
    {
      "cell_type": "markdown",
      "source": [
        "## The Machine Learning Pipeline\n",
        "\n",
        "### Collect Data\n",
        "→ Gather data from sources (databases, sensors, websites, etc.).\n",
        "\n",
        "**Example:**\n",
        "\n",
        "Gather housing data (location, size, number of rooms, price history) from property websites or government records.\n",
        "\n",
        "### Preprocess Data\n",
        "→ Clean it (remove errors, handle missing values, normalize, encode categories).\n",
        "\n",
        "**Example:**\n",
        "\n",
        "Fill missing values (like missing \"number of bathrooms\"), remove duplicates, normalize prices, and convert categories (like “Yes/No” for parking) into numbers.\n",
        "###Feature Engineering\n",
        " → Pick or create useful features that improve predictions.\n",
        "\n",
        "**Example:**\n",
        "\n",
        "Create new features such as price per square foot, or combine “number of rooms + bathrooms” into “total rooms.”\n",
        "\n",
        "Modeling\n",
        "###Modeling\n",
        " → Choose and train the right algorithm for the problem.\n",
        "\n",
        "**Example:**\n",
        "\n",
        " Use Linear Regression to predict house prices based on features like size, location, and rooms.\n",
        "\n",
        "###Test & Evaluate\n",
        " → Check model accuracy using metrics (Accuracy, MSE, MAE, R²).\n",
        "\n",
        "**Example:**\n",
        "\n",
        "Split data into training (80%) and testing (20%).\n",
        "\n",
        "Check how well the model predicts using metrics like:\n",
        "\n",
        "MSE / MAE → how far predictions are from actual prices\n",
        "\n",
        "R² score → how well the model explains the variation in prices\n",
        "###Deploy & Monitor\n",
        " → Put the model into real use, track its performance, and update when needed.\n",
        "\n",
        " **Example:**\n",
        "Put the model in a real-estate app where users can input house details and get an estimated price.\n",
        "\n",
        "Keep monitoring: if prices in the market change, retrain the model with new data.\n",
        "\n",
        "**This way, the pipeline turns raw housing data into a working price prediction system.**\n"
      ],
      "metadata": {
        "id": "ZeRg72E5f_nk"
      }
    },
    {
      "cell_type": "markdown",
      "source": [
        "## Evaluation metrics:\n",
        "### 1. Mean Squared Error (MSE):\n",
        "**Meaning:** Average of the squared differences between predicted and actual values.\n",
        "\n",
        "**Why:** Squaring makes large errors count more.\n",
        "\n",
        "$$\n",
        "MSE = \\frac{1}{n} \\sum_{i=1}^{n} (y_i - \\hat{y}_i)^2\n",
        "$$\n",
        "\n",
        "\n",
        "Example:\n",
        "\n",
        "Actual house prices = [200, 250, 300] (in $1000)\n",
        "\n",
        "Predicted prices = [210, 240, 310]\n",
        "\n",
        "Errors = [-10, 10, -10]\n",
        "\n",
        "Squared errors = [100, 100, 100]\n",
        "\n",
        "MSE = (100+100+100)/3 = 100"
      ],
      "metadata": {
        "id": "Hkyk6vUmy1dl"
      }
    },
    {
      "cell_type": "code",
      "source": [
        "import numpy as np\n",
        "from sklearn.metrics import mean_squared_error"
      ],
      "metadata": {
        "id": "JhCTssQBghJZ"
      },
      "execution_count": 4,
      "outputs": []
    },
    {
      "cell_type": "code",
      "source": [
        "# ---------------- Example Data ----------------\n",
        "# Actual house prices (in $1000)\n",
        "actual = np.array([200, 250, 300])"
      ],
      "metadata": {
        "id": "7iwAzFL5zngV"
      },
      "execution_count": 5,
      "outputs": []
    },
    {
      "cell_type": "code",
      "source": [
        "\n",
        "# Predicted house prices (in $1000)\n",
        "predicted = np.array([210, 240, 310])\n"
      ],
      "metadata": {
        "id": "aQyluCREzrBG"
      },
      "execution_count": 6,
      "outputs": []
    },
    {
      "cell_type": "code",
      "source": [
        "# ---------------- Calculate MSE ----------------\n",
        "mse = mean_squared_error(actual, predicted)"
      ],
      "metadata": {
        "id": "Dh_8MEFjztWX"
      },
      "execution_count": 7,
      "outputs": []
    },
    {
      "cell_type": "code",
      "source": [
        "print(\"Actual prices:\", actual)\n",
        "print(\"Predicted prices:\", predicted)\n",
        "print(\"MSE:\", mse)"
      ],
      "metadata": {
        "colab": {
          "base_uri": "https://localhost:8080/"
        },
        "id": "72b7JN3s0Ycm",
        "outputId": "29cab6c3-7abb-433c-ee81-3cad1ef29f27"
      },
      "execution_count": 8,
      "outputs": [
        {
          "output_type": "stream",
          "name": "stdout",
          "text": [
            "Actual prices: [200 250 300]\n",
            "Predicted prices: [210 240 310]\n",
            "MSE: 100.0\n"
          ]
        }
      ]
    },
    {
      "cell_type": "code",
      "source": [
        "# ---------------- Manual Calculation ----------------\n",
        "# Step 1: Find errors (actual - predicted)\n",
        "errors = actual - predicted"
      ],
      "metadata": {
        "id": "DOpjQSMr0a9d"
      },
      "execution_count": 9,
      "outputs": []
    },
    {
      "cell_type": "code",
      "source": [
        "# Step 2: Square each error\n",
        "squared_errors = errors ** 2"
      ],
      "metadata": {
        "id": "Liqsx1B40eaW"
      },
      "execution_count": 10,
      "outputs": []
    },
    {
      "cell_type": "code",
      "source": [
        "# Step 3: Take the average\n",
        "mse_manual = np.mean(squared_errors)"
      ],
      "metadata": {
        "id": "2uIPjm3s0guQ"
      },
      "execution_count": 11,
      "outputs": []
    },
    {
      "cell_type": "code",
      "source": [
        "print(\"\\nManual calculation:\")\n",
        "print(\"Errors:\", errors)\n"
      ],
      "metadata": {
        "colab": {
          "base_uri": "https://localhost:8080/"
        },
        "id": "XD1N5IqP0i27",
        "outputId": "52bed854-4443-4aad-8837-528940a041b5"
      },
      "execution_count": 12,
      "outputs": [
        {
          "output_type": "stream",
          "name": "stdout",
          "text": [
            "\n",
            "Manual calculation:\n",
            "Errors: [-10  10 -10]\n"
          ]
        }
      ]
    },
    {
      "cell_type": "code",
      "source": [
        "print(\"Squared errors:\", squared_errors)\n",
        "print(\"MSE (manual):\", mse_manual)\n"
      ],
      "metadata": {
        "colab": {
          "base_uri": "https://localhost:8080/"
        },
        "id": "qHQZ8li_0oZb",
        "outputId": "dc3c392e-9abb-44f0-9cce-d42e05b45615"
      },
      "execution_count": 13,
      "outputs": [
        {
          "output_type": "stream",
          "name": "stdout",
          "text": [
            "Squared errors: [100 100 100]\n",
            "MSE (manual): 100.0\n"
          ]
        }
      ]
    },
    {
      "cell_type": "markdown",
      "source": [
        "### 2. Mean Absolute Error (MAE)\n",
        "\n",
        "**Meaning:** Average of the absolute differences between predicted and actual values.\n",
        "\n",
        "**Why:** Easier to understand, since error is in the same units as the target.\n",
        "\n",
        "**Formula:**\n",
        "$$\n",
        "MAE = \\frac{1}{n} \\sum_{i=1}^{n} \\lvert y_i - \\hat{y}_i \\rvert\n",
        "$$\n",
        "\n",
        "**Example:**\n",
        "\n",
        "Errors = [-10, 10, -10]\n",
        "\n",
        "Absolute errors = [10, 10, 10]\n",
        "\n",
        "MAE = (10+10+10)/3 = 10 → meaning, on average, the model is off by $10,000"
      ],
      "metadata": {
        "id": "An6msxv70zbj"
      }
    },
    {
      "cell_type": "code",
      "source": [
        "# Import necessary library\n",
        "from sklearn.metrics import mean_absolute_error"
      ],
      "metadata": {
        "id": "ruqhvMjj0pUU"
      },
      "execution_count": 39,
      "outputs": []
    },
    {
      "cell_type": "code",
      "source": [
        "# Actual values\n",
        "y_true = [3, 5, 2, 7]"
      ],
      "metadata": {
        "id": "Z66a-aNi1F5k"
      },
      "execution_count": 40,
      "outputs": []
    },
    {
      "cell_type": "code",
      "source": [
        "# Predicted values (model predictions)\n",
        "y_pred = [2.5, 5.5, 2, 8]\n"
      ],
      "metadata": {
        "id": "Thl6v4HK1H1a"
      },
      "execution_count": 41,
      "outputs": []
    },
    {
      "cell_type": "code",
      "source": [
        "# Using sklearn\n",
        "mae_sklearn = mean_absolute_error(y_true, y_pred)\n",
        "print(\"Sklearn MAE:\", mae_sklearn)"
      ],
      "metadata": {
        "colab": {
          "base_uri": "https://localhost:8080/"
        },
        "id": "Ve290bQt1JrB",
        "outputId": "05c9af3a-5808-4613-a5b6-37051aa11691"
      },
      "execution_count": 42,
      "outputs": [
        {
          "output_type": "stream",
          "name": "stdout",
          "text": [
            "Sklearn MAE: 0.5\n"
          ]
        }
      ]
    },
    {
      "cell_type": "code",
      "source": [
        "# Manual calculation\n",
        "absolute_errors = [abs(a - p) for a, p in zip(y_true, y_pred)]\n",
        "mae_manual = sum(absolute_errors) / len(absolute_errors)"
      ],
      "metadata": {
        "id": "az-TsQ1D1NHG"
      },
      "execution_count": 44,
      "outputs": []
    },
    {
      "cell_type": "code",
      "source": [
        "print(\"Manual MAE:\", mae_manual)"
      ],
      "metadata": {
        "colab": {
          "base_uri": "https://localhost:8080/"
        },
        "id": "08IM7e6y18vP",
        "outputId": "75ef6cf7-6684-4a03-837c-6703f1cecfda"
      },
      "execution_count": 45,
      "outputs": [
        {
          "output_type": "stream",
          "name": "stdout",
          "text": [
            "Manual MAE: 0.5\n"
          ]
        }
      ]
    },
    {
      "cell_type": "markdown",
      "source": [
        "## R² Score (Coefficient of Determination):\n",
        "**Definition:**\n",
        "R² measures how well the predicted values explain the variance of the actual values.\n",
        "\n",
        "$$\n",
        "R^2 = 1 - \\frac{\\sum_{i=1}^{n} (y_i - \\hat{y}_i)^2}{\\sum_{i=1}^{n} (y_i - \\bar{y})^2}\n",
        "$$\n",
        "\n",
        "**Where:**  \n",
        "- $y_i$ = actual value  \n",
        "- $\\hat{y}_i$ = predicted value  \n",
        "- $\\bar{y}$ = mean of actual values  \n",
        "\n",
        "**Interpretation:**  \n",
        "- $R^2 = 1$ → Perfect prediction  \n",
        "- $R^2 = 0$ → Model predicts as well as simply using the mean  \n",
        "- $R^2 < 0$ → Model is worse than just using the mean\n"
      ],
      "metadata": {
        "id": "X19NJx9z3xN8"
      }
    },
    {
      "cell_type": "code",
      "source": [],
      "metadata": {
        "id": "DtzmEeML4vsb"
      },
      "execution_count": null,
      "outputs": []
    },
    {
      "cell_type": "code",
      "source": [
        "# Actual values\n",
        "y_true = [3, 5, 2, 7]"
      ],
      "metadata": {
        "id": "E_OvcuPg2C8v"
      },
      "execution_count": 47,
      "outputs": []
    },
    {
      "cell_type": "code",
      "source": [
        "\n",
        "# Predicted values\n",
        "y_pred = [2.5, 5.5, 2, 7.5]"
      ],
      "metadata": {
        "id": "0IglxbLl4iTX"
      },
      "execution_count": 48,
      "outputs": []
    },
    {
      "cell_type": "code",
      "source": [
        "from sklearn.metrics import r2_score\n",
        "\n",
        "r2_score_sklearn = r2_score(y_true, y_pred)\n",
        "print(\"Sklearn R2 Score:\", r2_score_sklearn)"
      ],
      "metadata": {
        "colab": {
          "base_uri": "https://localhost:8080/"
        },
        "id": "PuVARh2m4xBO",
        "outputId": "0b544bd6-9dc3-4380-b3ae-0ba9567a0869"
      },
      "execution_count": 53,
      "outputs": [
        {
          "output_type": "stream",
          "name": "stdout",
          "text": [
            "Sklearn R2 Score: 0.9491525423728814\n"
          ]
        }
      ]
    },
    {
      "cell_type": "code",
      "source": [
        "#-------------manual calculation-------------\n",
        "# Step 1: Calculate mean of actual values\n",
        "y_mean = sum(y_true) / len(y_true)\n"
      ],
      "metadata": {
        "id": "ruDpCpOX4kG-"
      },
      "execution_count": 54,
      "outputs": []
    },
    {
      "cell_type": "code",
      "source": [
        "# Step 2: Calculate Total Sum of Squares (SS_tot)\n",
        "ss_tot = sum((y - y_mean)**2 for y in y_true)"
      ],
      "metadata": {
        "id": "5f6U5s3S4mEc"
      },
      "execution_count": 50,
      "outputs": []
    },
    {
      "cell_type": "code",
      "source": [
        "# Step 3: Calculate Residual Sum of Squares (SS_res)\n",
        "ss_res = sum((y - y_hat)**2 for y, y_hat in zip(y_true, y_pred))"
      ],
      "metadata": {
        "id": "ZKiric2t4oZL"
      },
      "execution_count": 51,
      "outputs": []
    },
    {
      "cell_type": "code",
      "source": [
        "# Step 4: Calculate R2\n",
        "r2_score_manual = 1 - (ss_res / ss_tot)\n",
        "print(\"Manual R2 Score:\", r2_score_manual)"
      ],
      "metadata": {
        "colab": {
          "base_uri": "https://localhost:8080/"
        },
        "id": "jZfRra7_4q-g",
        "outputId": "854b4c97-a6b8-4762-cd21-4a7ac87da55a"
      },
      "execution_count": 52,
      "outputs": [
        {
          "output_type": "stream",
          "name": "stdout",
          "text": [
            "Manual R2 Score: 0.9491525423728814\n"
          ]
        }
      ]
    },
    {
      "cell_type": "code",
      "source": [],
      "metadata": {
        "id": "gWzuTKSG4s6k"
      },
      "execution_count": null,
      "outputs": []
    }
  ]
}