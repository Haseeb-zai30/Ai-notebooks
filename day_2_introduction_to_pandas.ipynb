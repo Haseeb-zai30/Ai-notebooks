{
  "nbformat": 4,
  "nbformat_minor": 0,
  "metadata": {
    "colab": {
      "provenance": [],
      "authorship_tag": "ABX9TyPH70Iv380qQvH0gEyZHFyv",
      "include_colab_link": true
    },
    "kernelspec": {
      "name": "python3",
      "display_name": "Python 3"
    },
    "language_info": {
      "name": "python"
    }
  },
  "cells": [
    {
      "cell_type": "markdown",
      "metadata": {
        "id": "view-in-github",
        "colab_type": "text"
      },
      "source": [
        "<a href=\"https://colab.research.google.com/github/Haseeb-zai30/Ai-notebooks/blob/main/day_2_introduction_to_pandas.ipynb\" target=\"_parent\"><img src=\"https://colab.research.google.com/assets/colab-badge.svg\" alt=\"Open In Colab\"/></a>"
      ]
    },
    {
      "cell_type": "code",
      "execution_count": 1,
      "metadata": {
        "colab": {
          "base_uri": "https://localhost:8080/"
        },
        "id": "JzN7g0CY9gRo",
        "outputId": "9182bb42-8fda-4067-a697-bb33b44659df"
      },
      "outputs": [
        {
          "output_type": "stream",
          "name": "stdout",
          "text": [
            "Requirement already satisfied: pandas in /usr/local/lib/python3.12/dist-packages (2.2.2)\n",
            "Requirement already satisfied: numpy>=1.26.0 in /usr/local/lib/python3.12/dist-packages (from pandas) (2.0.2)\n",
            "Requirement already satisfied: python-dateutil>=2.8.2 in /usr/local/lib/python3.12/dist-packages (from pandas) (2.9.0.post0)\n",
            "Requirement already satisfied: pytz>=2020.1 in /usr/local/lib/python3.12/dist-packages (from pandas) (2025.2)\n",
            "Requirement already satisfied: tzdata>=2022.7 in /usr/local/lib/python3.12/dist-packages (from pandas) (2025.2)\n",
            "Requirement already satisfied: six>=1.5 in /usr/local/lib/python3.12/dist-packages (from python-dateutil>=2.8.2->pandas) (1.17.0)\n"
          ]
        }
      ],
      "source": [
        "!pip install pandas"
      ]
    },
    {
      "cell_type": "code",
      "source": [
        "# import micropip\n",
        "# await micropip.install(\"pandas\")  #run only if using jupyter nootbook"
      ],
      "metadata": {
        "id": "xH6PjAQb9lTd"
      },
      "execution_count": 2,
      "outputs": []
    },
    {
      "cell_type": "markdown",
      "source": [
        "**Pandas**\n",
        "\n",
        " Pandas is an open-source Python library designed for fast, flexible data manipulation and analysis. It\n",
        " offers two core data structures—Series and DataFrame—that allow for intuitive manipulation of\n",
        " data.\n",
        "\n",
        "Key Features:\n",
        "\n",
        "Efficient Data Structures:\n",
        "\n",
        " Provides Series (one-dimensional) and DataFrame (two-dimensional)\n",
        " objects.\n",
        "\n",
        "Data Input/Output:\n",
        "\n",
        " Supports a variety of file formats including CSV, Excel, JSON, and SQL.\n",
        " Data Cleaning: Offers tools for handling missing data, duplicate data, and inconsistent formats.\n",
        "\n",
        "Data Analysis:\n",
        "\n",
        " Includes functions for grouping, merging, and reshaping data, making it ideal for exploratory data analysis (EDA).\n",
        "\n",
        "Time Series:\n",
        "\n",
        "  Provides specialized features for time series data analysis."
      ],
      "metadata": {
        "id": "ajRSvY5K-uSV"
      }
    },
    {
      "cell_type": "code",
      "source": [
        "import pandas as pd   # Importing pandas library"
      ],
      "metadata": {
        "id": "3Xwp2yPr-toC"
      },
      "execution_count": 4,
      "outputs": []
    },
    {
      "cell_type": "markdown",
      "source": [
        "**Creating a Series from a List:**"
      ],
      "metadata": {
        "id": "Glf1xXHRBWyj"
      }
    },
    {
      "cell_type": "markdown",
      "source": [
        "data → A Python list.\n",
        "\n",
        "pd.Series(data) → Converts list into a Pandas Series.\n",
        "\n",
        "Index → Labels for each value. Default is 0, 1, 2....\n",
        "\n",
        "Output → Two columns: index on left, values on right."
      ],
      "metadata": {
        "id": "XIWHKlS1BaKl"
      }
    },
    {
      "cell_type": "markdown",
      "source": [
        "Creating a Series from a Python list"
      ],
      "metadata": {
        "id": "m3AdhLuoAl0y"
      }
    },
    {
      "cell_type": "code",
      "source": [
        "data = [10, 20, 30, 40, 50]#list"
      ],
      "metadata": {
        "id": "d9WVI_lKASXV"
      },
      "execution_count": 5,
      "outputs": []
    },
    {
      "cell_type": "markdown",
      "source": [
        "'pd.Series()' converts the list into a Series object\n",
        " A Series is like a 1D array, but with labels (index).\n",
        " By default, the index starts from 0, 1, 2, ..."
      ],
      "metadata": {
        "id": "RnJf1eIQA_mv"
      }
    },
    {
      "cell_type": "code",
      "source": [
        "#Creating a Pandas Series from the list\n",
        "series = pd.Series(data)"
      ],
      "metadata": {
        "id": "w0Ts-jqEAruE"
      },
      "execution_count": 6,
      "outputs": []
    },
    {
      "cell_type": "code",
      "source": [
        "print(\"Default Index Series:\")\n",
        "print(series)"
      ],
      "metadata": {
        "colab": {
          "base_uri": "https://localhost:8080/"
        },
        "id": "RpneOPDhA84v",
        "outputId": "20e3dc93-c466-4082-b391-1cca1545e3ad"
      },
      "execution_count": 7,
      "outputs": [
        {
          "output_type": "stream",
          "name": "stdout",
          "text": [
            "Default Index Series:\n",
            "0    10\n",
            "1    20\n",
            "2    30\n",
            "3    40\n",
            "4    50\n",
            "dtype: int64\n"
          ]
        }
      ]
    },
    {
      "cell_type": "markdown",
      "source": [
        "**Creating a Series with Custom Index Labels**"
      ],
      "metadata": {
        "id": "S0PbFDwnBgTb"
      }
    },
    {
      "cell_type": "markdown",
      "source": [
        "index=['a','b','c','d','e'] → assigns custom names to each position.\n",
        "\n",
        "Instead of 0,1,2..., now elements are labeled a,b,c,d,e."
      ],
      "metadata": {
        "id": "UxpO2lfhBqmF"
      }
    },
    {
      "cell_type": "code",
      "source": [
        "# Creating a Series with custom labels for the index\n",
        "series_custom = pd.Series(data, index=['a', 'b', 'c', 'd', 'e'])"
      ],
      "metadata": {
        "id": "PCvfApVlBIZD"
      },
      "execution_count": 8,
      "outputs": []
    },
    {
      "cell_type": "code",
      "source": [
        "print(\"\\nSeries with custom indices:\")\n",
        "print(series_custom)"
      ],
      "metadata": {
        "colab": {
          "base_uri": "https://localhost:8080/"
        },
        "id": "CPYSjXdCBpx7",
        "outputId": "0a2ab72f-5292-4977-9408-80cbc5c4a844"
      },
      "execution_count": 9,
      "outputs": [
        {
          "output_type": "stream",
          "name": "stdout",
          "text": [
            "\n",
            "Series with custom indices:\n",
            "a    10\n",
            "b    20\n",
            "c    30\n",
            "d    40\n",
            "e    50\n",
            "dtype: int64\n"
          ]
        }
      ]
    },
    {
      "cell_type": "markdown",
      "source": [
        "**Creating a Series from a Dictionary**"
      ],
      "metadata": {
        "id": "Br9UYTq1Bz0u"
      }
    },
    {
      "cell_type": "markdown",
      "source": [
        "Dictionary → has key: value pairs.\n",
        "\n",
        "In Pandas Series:\n",
        "\n",
        "Keys → become index labels (x, y, z).\n",
        "\n",
        "Values → become data (100, 200, 300)."
      ],
      "metadata": {
        "id": "p_jht-B_CD8C"
      }
    },
    {
      "cell_type": "code",
      "source": [
        "# A Python dictionary: keys act as labels, values as data\n",
        "data_dict = {'x': 100, 'y': 200, 'z': 300}"
      ],
      "metadata": {
        "id": "jcBOSPwzBw7b"
      },
      "execution_count": 12,
      "outputs": []
    },
    {
      "cell_type": "code",
      "source": [
        "# Creating a Series directly from the dictionary\n",
        "series_from_dict = pd.Series(data_dict)"
      ],
      "metadata": {
        "id": "rrWbI-36B8LY"
      },
      "execution_count": 13,
      "outputs": []
    },
    {
      "cell_type": "code",
      "source": [
        "print(\"\\nSeries from a dictionary:\")\n",
        "print(series_from_dict)"
      ],
      "metadata": {
        "colab": {
          "base_uri": "https://localhost:8080/"
        },
        "id": "ZF4MXwN5CAOW",
        "outputId": "a73d99eb-81c1-4365-c13b-438101c52bc0"
      },
      "execution_count": 14,
      "outputs": [
        {
          "output_type": "stream",
          "name": "stdout",
          "text": [
            "\n",
            "Series from a dictionary:\n",
            "x    100\n",
            "y    200\n",
            "z    300\n",
            "dtype: int64\n"
          ]
        }
      ]
    },
    {
      "cell_type": "markdown",
      "source": [
        "**Mathematical Operations on a Series**"
      ],
      "metadata": {
        "id": "uRxUtBbMCNpa"
      }
    },
    {
      "cell_type": "markdown",
      "source": [
        "Pandas allows vectorized operations (no need for loops).\n",
        "\n",
        "series * 2 → multiplies every element by 2.\n",
        "\n",
        "Result is a new Series with transformed values"
      ],
      "metadata": {
        "id": "ekLwr5MhCUMT"
      }
    },
    {
      "cell_type": "code",
      "source": [
        "# Multiplying every element in the Series by 2\n",
        "series_multiplied = series * 2"
      ],
      "metadata": {
        "id": "pZjSKbmfCDKO"
      },
      "execution_count": 15,
      "outputs": []
    },
    {
      "cell_type": "code",
      "source": [
        "print(\"\\nSeries after multiplying by 2:\")\n",
        "print(series_multiplied)"
      ],
      "metadata": {
        "colab": {
          "base_uri": "https://localhost:8080/"
        },
        "id": "1v85kc1BCRt3",
        "outputId": "8859110d-42d6-4d4c-ae3d-ae2ea01ae3c5"
      },
      "execution_count": 16,
      "outputs": [
        {
          "output_type": "stream",
          "name": "stdout",
          "text": [
            "\n",
            "Series after multiplying by 2:\n",
            "0     20\n",
            "1     40\n",
            "2     60\n",
            "3     80\n",
            "4    100\n",
            "dtype: int64\n"
          ]
        }
      ]
    },
    {
      "cell_type": "markdown",
      "source": [
        "**Pandas DataFrame**:\n",
        "\n",
        "A DataFrame is like an Excel table or SQL table:\n",
        "\n",
        "Rows → represent records/observations.\n",
        "\n",
        "Columns → represent fields/attributes.\n",
        "\n",
        "It’s the core data structure in Pandas for 2D data."
      ],
      "metadata": {
        "id": "ymF-NaPXCmaL"
      }
    },
    {
      "cell_type": "markdown",
      "source": [
        "Dictionary keys ('Name','Age','City') → become columns.\n",
        "\n",
        "Lists inside dictionary → become column values.\n",
        "\n",
        "Output: a neat table with rows (0–3) and 3 columns."
      ],
      "metadata": {
        "id": "DttkatBkDEFJ"
      }
    },
    {
      "cell_type": "code",
      "source": [
        "# A Python dictionary: each key is a column name, and values are lists of column entries\n",
        "data = {\n",
        "    'Name': ['Alice', 'Bob', 'Charlie', 'David'],\n",
        "    'Age': [25, 30, 35, 40],\n",
        "    'City': ['New York', 'Los Angeles', 'Chicago', 'Houston']\n",
        "}"
      ],
      "metadata": {
        "id": "sMU_nA01CTSl"
      },
      "execution_count": 18,
      "outputs": []
    },
    {
      "cell_type": "code",
      "source": [
        "# Convert dictionary to DataFrame\n",
        "df = pd.DataFrame(data)"
      ],
      "metadata": {
        "id": "hiPMpEK7Cy1J"
      },
      "execution_count": 19,
      "outputs": []
    },
    {
      "cell_type": "code",
      "source": [
        "print(\"DataFrame from dictionary:\")\n",
        "print(df)"
      ],
      "metadata": {
        "colab": {
          "base_uri": "https://localhost:8080/"
        },
        "id": "LDOChNVFC-sA",
        "outputId": "bf4e905d-1bc9-4f90-bf5d-9aaf4c4619b9"
      },
      "execution_count": 20,
      "outputs": [
        {
          "output_type": "stream",
          "name": "stdout",
          "text": [
            "DataFrame from dictionary:\n",
            "      Name  Age         City\n",
            "0    Alice   25     New York\n",
            "1      Bob   30  Los Angeles\n",
            "2  Charlie   35      Chicago\n",
            "3    David   40      Houston\n"
          ]
        }
      ]
    },
    {
      "cell_type": "code",
      "source": [],
      "metadata": {
        "id": "igNdSfsNDAzs"
      },
      "execution_count": null,
      "outputs": []
    },
    {
      "cell_type": "markdown",
      "source": [
        "**Creating a DataFrame from a List of Dictionaries**"
      ],
      "metadata": {
        "id": "ne0XtndrDMMP"
      }
    },
    {
      "cell_type": "markdown",
      "source": [
        "Each dictionary = one row.\n",
        "\n",
        "Keys inside dict = column names.\n",
        "\n",
        "Useful when loading JSON-like structured data."
      ],
      "metadata": {
        "id": "dyPRUK82DW6v"
      }
    },
    {
      "cell_type": "code",
      "source": [
        "# A list of dictionaries: each dictionary represents one row\n",
        "data_list = [\n",
        "    {'Name': 'Alice', 'Age': 25, 'City': 'New York'},\n",
        "    {'Name': 'Bob', 'Age': 30, 'City': 'Los Angeles'},\n",
        "    {'Name': 'Charlie', 'Age': 35, 'City': 'Chicago'},\n",
        "    {'Name': 'David', 'Age': 40, 'City': 'Houston'}\n",
        "]"
      ],
      "metadata": {
        "id": "3QqZP-WQDPKr"
      },
      "execution_count": 21,
      "outputs": []
    },
    {
      "cell_type": "code",
      "source": [
        "# Convert list of dictionaries to DataFrame\n",
        "df_list = pd.DataFrame(data_list)\n"
      ],
      "metadata": {
        "id": "V2VpKxe3DRuv"
      },
      "execution_count": 22,
      "outputs": []
    },
    {
      "cell_type": "code",
      "source": [
        "print(\"\\nDataFrame from list of dictionaries:\")\n",
        "print(df_list)"
      ],
      "metadata": {
        "colab": {
          "base_uri": "https://localhost:8080/"
        },
        "id": "6d28Z-_BDUIZ",
        "outputId": "8511f5e3-2288-4c33-c473-8a3efe30a501"
      },
      "execution_count": 23,
      "outputs": [
        {
          "output_type": "stream",
          "name": "stdout",
          "text": [
            "\n",
            "DataFrame from list of dictionaries:\n",
            "      Name  Age         City\n",
            "0    Alice   25     New York\n",
            "1      Bob   30  Los Angeles\n",
            "2  Charlie   35      Chicago\n",
            "3    David   40      Houston\n"
          ]
        }
      ]
    },
    {
      "cell_type": "code",
      "source": [],
      "metadata": {
        "id": "K4164N0bDVqf"
      },
      "execution_count": null,
      "outputs": []
    },
    {
      "cell_type": "markdown",
      "source": [
        "**Adding a New Column**:"
      ],
      "metadata": {
        "id": "DZ3EoMcRDhKW"
      }
    },
    {
      "cell_type": "markdown",
      "source": [
        "df['Salary'] → creates a new column.\n",
        "\n",
        "The list values [70000, 80000, 90000, 85000] are assigned row by row.\n",
        "\n",
        "Now the DataFrame has 4 columns: Name, Age, City, Salary."
      ],
      "metadata": {
        "id": "h6Rp7-tlDoKk"
      }
    },
    {
      "cell_type": "code",
      "source": [
        "# Adding a new column called 'Salary' to the DataFrame\n",
        "df['Salary'] = [70000, 80000, 90000, 85000]\n"
      ],
      "metadata": {
        "id": "27mlBsxUDi18"
      },
      "execution_count": 24,
      "outputs": []
    },
    {
      "cell_type": "code",
      "source": [
        "print(\"\\nDataFrame after adding Salary column:\")\n",
        "print(df)"
      ],
      "metadata": {
        "colab": {
          "base_uri": "https://localhost:8080/"
        },
        "id": "YwtvA6lyDkg0",
        "outputId": "0c55b3d8-ebe4-48b4-f6a9-789494f6cd90"
      },
      "execution_count": 25,
      "outputs": [
        {
          "output_type": "stream",
          "name": "stdout",
          "text": [
            "\n",
            "DataFrame after adding Salary column:\n",
            "      Name  Age         City  Salary\n",
            "0    Alice   25     New York   70000\n",
            "1      Bob   30  Los Angeles   80000\n",
            "2  Charlie   35      Chicago   90000\n",
            "3    David   40      Houston   85000\n"
          ]
        }
      ]
    },
    {
      "cell_type": "markdown",
      "source": [
        "**Pandas Data Input & Output**:\n",
        "\n",
        "Pandas can read/write data from many sources: CSV, Excel, SQL databases, JSON, etc.\n",
        "We’ll demonstrate with small dummy datasets."
      ],
      "metadata": {
        "id": "_ehmd__ZG2pa"
      }
    },
    {
      "cell_type": "markdown",
      "source": [
        "**Reading from CSV Files**:\n",
        "\n",
        "to_csv() → saves DataFrame as a CSV file.\n",
        "\n",
        "index=False → prevents Pandas from writing row numbers into the file.\n",
        "\n",
        "read_csv() → loads the CSV file back into a DataFrame."
      ],
      "metadata": {
        "id": "CH1IoV5vHCm5"
      }
    },
    {
      "cell_type": "code",
      "source": [
        "# Step 1: Create a sample DataFrame\n",
        "data = {\n",
        "    'Name': ['Alice', 'Bob', 'Charlie', 'David'],\n",
        "    'Age': [25, 30, 35, 40],\n",
        "    'City': ['New York', 'Los Angeles', 'Chicago', 'Houston']\n",
        "}"
      ],
      "metadata": {
        "id": "HHQDq0xVDmAI"
      },
      "execution_count": 26,
      "outputs": []
    },
    {
      "cell_type": "code",
      "source": [
        "df = pd.DataFrame(data)"
      ],
      "metadata": {
        "id": "eGeBnmWMHMM-"
      },
      "execution_count": 29,
      "outputs": []
    },
    {
      "cell_type": "code",
      "source": [
        "# Step 2: Save this DataFrame as a CSV file\n",
        "df.to_csv(\"sample_data.csv\", index=False)   # index=False avoids writing row numbers"
      ],
      "metadata": {
        "id": "ZUJxqe2GHQYV"
      },
      "execution_count": 30,
      "outputs": []
    },
    {
      "cell_type": "code",
      "source": [
        "# Step 3: Read the CSV file back into a DataFrame\n",
        "df_csv = pd.read_csv(\"sample_data.csv\")"
      ],
      "metadata": {
        "id": "FBxZKVXSHV8D"
      },
      "execution_count": 31,
      "outputs": []
    },
    {
      "cell_type": "code",
      "source": [
        "print(\"Data read from CSV file:\")\n",
        "print(df_csv)"
      ],
      "metadata": {
        "colab": {
          "base_uri": "https://localhost:8080/"
        },
        "id": "gC7eXS6-Ha0R",
        "outputId": "e5a5e88c-7a2f-4f33-9257-5d0e881705fb"
      },
      "execution_count": 32,
      "outputs": [
        {
          "output_type": "stream",
          "name": "stdout",
          "text": [
            "Data read from CSV file:\n",
            "      Name  Age         City\n",
            "0    Alice   25     New York\n",
            "1      Bob   30  Los Angeles\n",
            "2  Charlie   35      Chicago\n",
            "3    David   40      Houston\n"
          ]
        }
      ]
    },
    {
      "cell_type": "markdown",
      "source": [
        "**Reading from Excel Files**:\n",
        "\n",
        "to_excel() → writes DataFrame into an Excel file.\n",
        "\n",
        "sheet_name → specifies which sheet to save/read.\n",
        "\n",
        "read_excel() → loads Excel data."
      ],
      "metadata": {
        "id": "9hhK-qYRHkr7"
      }
    },
    {
      "cell_type": "code",
      "source": [
        "# Save the DataFrame to an Excel file\n",
        "df.to_excel(\"sample_data.xlsx\", sheet_name=\"Sheet1\", index=False)\n"
      ],
      "metadata": {
        "id": "a77hMTkxHcze"
      },
      "execution_count": 33,
      "outputs": []
    },
    {
      "cell_type": "code",
      "source": [
        "# Read back the Excel file\n",
        "df_excel = pd.read_excel(\"sample_data.xlsx\", sheet_name=\"Sheet1\")\n"
      ],
      "metadata": {
        "id": "jeSqNkXbHqEe"
      },
      "execution_count": 34,
      "outputs": []
    },
    {
      "cell_type": "code",
      "source": [
        "print(\"\\nData read from Excel file:\")\n",
        "print(df_excel)"
      ],
      "metadata": {
        "colab": {
          "base_uri": "https://localhost:8080/"
        },
        "id": "OZi9SXXPHsJP",
        "outputId": "8093c4da-d590-46b3-a625-48459ea485fe"
      },
      "execution_count": 35,
      "outputs": [
        {
          "output_type": "stream",
          "name": "stdout",
          "text": [
            "\n",
            "Data read from Excel file:\n",
            "      Name  Age         City\n",
            "0    Alice   25     New York\n",
            "1      Bob   30  Los Angeles\n",
            "2  Charlie   35      Chicago\n",
            "3    David   40      Houston\n"
          ]
        }
      ]
    },
    {
      "cell_type": "markdown",
      "source": [
        "**Reading from SQL Databases**:\n",
        "\n",
        "We’ll use SQLite (a lightweight database) for demonstration.\n",
        "\n",
        "\n",
        "\n",
        "sqlite3.connect() → connects to SQLite DB (creates file if not exists).\n",
        "\n",
        "to_sql() → saves DataFrame into a database table.\n",
        "\n",
        "read_sql_query() → fetches SQL results into a DataFrame."
      ],
      "metadata": {
        "id": "5YYeV_3jH5tR"
      }
    },
    {
      "cell_type": "code",
      "source": [
        "import sqlite3"
      ],
      "metadata": {
        "id": "wiFn8cqOHtmh"
      },
      "execution_count": 42,
      "outputs": []
    },
    {
      "cell_type": "code",
      "source": [
        "# Step 1: Create a connection to SQLite (creates a local DB file)\n",
        "conn = sqlite3.connect(\"sample_data.db\")\n"
      ],
      "metadata": {
        "id": "hUhb0q98H9wQ"
      },
      "execution_count": 37,
      "outputs": []
    },
    {
      "cell_type": "code",
      "source": [
        "# Step 2: Save DataFrame to a SQL table\n",
        "df.to_sql(\"people\", conn, if_exists=\"replace\", index=False)"
      ],
      "metadata": {
        "colab": {
          "base_uri": "https://localhost:8080/"
        },
        "id": "OY0BOqWQH_YZ",
        "outputId": "f06b3a21-2afd-484b-9f51-02a497f18e5c"
      },
      "execution_count": 38,
      "outputs": [
        {
          "output_type": "execute_result",
          "data": {
            "text/plain": [
              "4"
            ]
          },
          "metadata": {},
          "execution_count": 38
        }
      ]
    },
    {
      "cell_type": "code",
      "source": [
        "# Step 3: Query data back into Pandas\n",
        "df_sql = pd.read_sql_query(\"SELECT * FROM people\", conn)\n"
      ],
      "metadata": {
        "id": "5jNj9VMiIBU1"
      },
      "execution_count": 39,
      "outputs": []
    },
    {
      "cell_type": "code",
      "source": [
        "# Close connection\n",
        "conn.close()"
      ],
      "metadata": {
        "id": "6OlWzFn4IHjG"
      },
      "execution_count": 40,
      "outputs": []
    },
    {
      "cell_type": "code",
      "source": [
        "print(\"\\nData read from SQL database:\")\n",
        "print(df_sql)"
      ],
      "metadata": {
        "colab": {
          "base_uri": "https://localhost:8080/"
        },
        "id": "X4MaR84TIJaL",
        "outputId": "db1c4609-656d-4682-e6f1-618fff016fb3"
      },
      "execution_count": 41,
      "outputs": [
        {
          "output_type": "stream",
          "name": "stdout",
          "text": [
            "\n",
            "Data read from SQL database:\n",
            "      Name  Age         City\n",
            "0    Alice   25     New York\n",
            "1      Bob   30  Los Angeles\n",
            "2  Charlie   35      Chicago\n",
            "3    David   40      Houston\n"
          ]
        }
      ]
    },
    {
      "cell_type": "markdown",
      "source": [
        "**Selection & Indexing in Pandas**:\n",
        "\n",
        "**1. Selecting Columns**:\n",
        "\n",
        "df['Age'] → returns a Series of ages.\n",
        "\n",
        "df[['Name','City']] → returns a DataFrame with only selected columns."
      ],
      "metadata": {
        "id": "55Zcur6cUAPF"
      }
    },
    {
      "cell_type": "code",
      "source": [
        "# Sample DataFrame\n",
        "data = {\n",
        "    'Name': ['Alice', 'Bob', 'Charlie', 'David'],\n",
        "    'Age': [25, 30, 35, 40],\n",
        "    'City': ['New York', 'Los Angeles', 'Chicago', 'Houston'],\n",
        "    'Salary': [70000, 80000, 90000, 85000]\n",
        "}"
      ],
      "metadata": {
        "id": "6nGHqYaeIK38"
      },
      "execution_count": 43,
      "outputs": []
    },
    {
      "cell_type": "code",
      "source": [
        "df = pd.DataFrame(data)"
      ],
      "metadata": {
        "id": "dM2afg1GURHB"
      },
      "execution_count": 44,
      "outputs": []
    },
    {
      "cell_type": "code",
      "source": [
        "# Selecting a single column\n",
        "ages = df['Age']"
      ],
      "metadata": {
        "colab": {
          "base_uri": "https://localhost:8080/"
        },
        "id": "WAx5SpZ5UTA0",
        "outputId": "92d229cd-eb00-4c6b-8560-67ede1c79966"
      },
      "execution_count": 45,
      "outputs": [
        {
          "output_type": "stream",
          "name": "stdout",
          "text": [
            "Single column 'Age':\n",
            "0    25\n",
            "1    30\n",
            "2    35\n",
            "3    40\n",
            "Name: Age, dtype: int64\n"
          ]
        }
      ]
    },
    {
      "cell_type": "code",
      "source": [
        "print(\"Single column 'Age':\")\n",
        "print(ages)"
      ],
      "metadata": {
        "colab": {
          "base_uri": "https://localhost:8080/"
        },
        "id": "pVD3dVgoUboW",
        "outputId": "068be4ef-02d3-460c-952f-31ae8d3a36e4"
      },
      "execution_count": 46,
      "outputs": [
        {
          "output_type": "stream",
          "name": "stdout",
          "text": [
            "Single column 'Age':\n",
            "0    25\n",
            "1    30\n",
            "2    35\n",
            "3    40\n",
            "Name: Age, dtype: int64\n"
          ]
        }
      ]
    },
    {
      "cell_type": "code",
      "source": [
        "# Selecting multiple columns\n",
        "subset = df[['Name', 'City']]"
      ],
      "metadata": {
        "id": "HlgLBPPyUVSr"
      },
      "execution_count": 47,
      "outputs": []
    },
    {
      "cell_type": "code",
      "source": [
        "print(\"\\nSubset with 'Name' and 'City':\")\n",
        "print(subset)"
      ],
      "metadata": {
        "colab": {
          "base_uri": "https://localhost:8080/"
        },
        "id": "5Se77bIRUg9s",
        "outputId": "102e9ecb-de3c-4038-9198-e268f47713dd"
      },
      "execution_count": 48,
      "outputs": [
        {
          "output_type": "stream",
          "name": "stdout",
          "text": [
            "\n",
            "Subset with 'Name' and 'City':\n",
            "      Name         City\n",
            "0    Alice     New York\n",
            "1      Bob  Los Angeles\n",
            "2  Charlie      Chicago\n",
            "3    David      Houston\n"
          ]
        }
      ]
    },
    {
      "cell_type": "markdown",
      "source": [
        "**Selecting Rows with .loc[] (Label-based Indexing)**:\n",
        "\n",
        ".loc[] → selects rows/columns by labels (index names).\n",
        "\n",
        "You can pass a single label ('Alice') or a range (1:3).\n",
        "\n",
        "You can also specify column names in the second argument."
      ],
      "metadata": {
        "id": "ehUkXs4RUmfV"
      }
    },
    {
      "cell_type": "code",
      "source": [
        "# Set 'Name' as the index for demonstration\n",
        "df_indexed = df.set_index('Name')"
      ],
      "metadata": {
        "id": "JCQW4RdfUiLt"
      },
      "execution_count": 63,
      "outputs": []
    },
    {
      "cell_type": "code",
      "source": [
        "# Select row for 'Alice' by label\n",
        "row_alice = df_indexed.loc['Alice']\n"
      ],
      "metadata": {
        "id": "Ws3aVOxKUuW5"
      },
      "execution_count": 64,
      "outputs": []
    },
    {
      "cell_type": "code",
      "source": [
        "print(\"\\nRow for 'Alice' using .loc:\")\n",
        "print(row_alice)"
      ],
      "metadata": {
        "colab": {
          "base_uri": "https://localhost:8080/"
        },
        "id": "R0NEWg1JU1_p",
        "outputId": "a07cb8b8-74e4-42e3-9f7f-99bf940f8384"
      },
      "execution_count": 65,
      "outputs": [
        {
          "output_type": "stream",
          "name": "stdout",
          "text": [
            "\n",
            "Row for 'Alice' using .loc:\n",
            "Age             25\n",
            "City      New York\n",
            "Salary       70000\n",
            "Name: Alice, dtype: object\n"
          ]
        }
      ]
    },
    {
      "cell_type": "code",
      "source": [
        "# Select multiple rows + specific columns by labels\n",
        "sub_df = df.loc[1:3, ['Name', 'Age']]\n"
      ],
      "metadata": {
        "id": "QNjyOx9-UyBb"
      },
      "execution_count": 66,
      "outputs": []
    },
    {
      "cell_type": "code",
      "source": [
        "print(\"\\nRows 1 to 3 with 'Name' and 'Age':\")\n",
        "print(sub_df)"
      ],
      "metadata": {
        "colab": {
          "base_uri": "https://localhost:8080/"
        },
        "id": "iyl6bxW9U06Q",
        "outputId": "98885ca5-5663-4853-a8e2-1741efa769f6"
      },
      "execution_count": 67,
      "outputs": [
        {
          "output_type": "stream",
          "name": "stdout",
          "text": [
            "\n",
            "Rows 1 to 3 with 'Name' and 'Age':\n",
            "      Name  Age\n",
            "1      Bob   30\n",
            "2  Charlie   35\n",
            "3    David   40\n"
          ]
        }
      ]
    },
    {
      "cell_type": "markdown",
      "source": [
        "**Selecting Rows with .iloc[] (Position-based Indexing):**\n",
        "\n",
        ".iloc[] → selects rows/columns by integer positions.\n",
        "\n",
        "iloc[0] → first row.\n",
        "\n",
        "iloc[0:3, 0:2] → first 3 rows, first 2 columns."
      ],
      "metadata": {
        "id": "rrCDIuToVBMP"
      }
    },
    {
      "cell_type": "code",
      "source": [
        "# Select first row by position\n",
        "first_row = df.iloc[0]"
      ],
      "metadata": {
        "id": "NtzlxLD8U5ra"
      },
      "execution_count": 68,
      "outputs": []
    },
    {
      "cell_type": "code",
      "source": [
        "print(\"\\nFirst row using .iloc:\")\n",
        "print(first_row)"
      ],
      "metadata": {
        "colab": {
          "base_uri": "https://localhost:8080/"
        },
        "id": "EtyVWCkGVI9N",
        "outputId": "7971d826-a047-480a-c970-e98b7196f0e1"
      },
      "execution_count": 58,
      "outputs": [
        {
          "output_type": "stream",
          "name": "stdout",
          "text": [
            "\n",
            "First row using .iloc:\n",
            "Name         Alice\n",
            "Age             25\n",
            "City      New York\n",
            "Salary       70000\n",
            "Name: 0, dtype: object\n"
          ]
        }
      ]
    },
    {
      "cell_type": "code",
      "source": [
        "# Select first 3 rows and first 2 columns\n",
        "sub_df_iloc = df.iloc[0:3, 0:2]"
      ],
      "metadata": {
        "id": "JskxjSo-VLSi"
      },
      "execution_count": 69,
      "outputs": []
    },
    {
      "cell_type": "code",
      "source": [
        "print(\"\\nFirst 3 rows & 2 columns using .iloc:\")\n",
        "print(sub_df_iloc)"
      ],
      "metadata": {
        "colab": {
          "base_uri": "https://localhost:8080/"
        },
        "id": "noDNSYcbVNfe",
        "outputId": "4159c7e5-baaa-4286-8b4d-9c4507557509"
      },
      "execution_count": 70,
      "outputs": [
        {
          "output_type": "stream",
          "name": "stdout",
          "text": [
            "\n",
            "First 3 rows & 2 columns using .iloc:\n",
            "      Name  Age\n",
            "0    Alice   25\n",
            "1      Bob   30\n",
            "2  Charlie   35\n"
          ]
        }
      ]
    },
    {
      "cell_type": "markdown",
      "source": [
        "**Conditional Selection (Boolean Indexing)**:\n",
        "\n",
        "df['Age'] >= 30 → returns True/False for each row.\n",
        "\n",
        "Combine conditions with & (AND), | (OR).\n",
        "\n",
        ".isin() → checks if column values match a list."
      ],
      "metadata": {
        "id": "764cVNuiVWyh"
      }
    },
    {
      "cell_type": "code",
      "source": [
        "# Filter rows where Age >= 30\n",
        "df_age = df[df['Age'] >= 30]"
      ],
      "metadata": {
        "id": "Oiu1bBWdVPAw"
      },
      "execution_count": 71,
      "outputs": []
    },
    {
      "cell_type": "code",
      "source": [
        "print(\"\\nRows where Age >= 30:\")\n",
        "print(df_age)"
      ],
      "metadata": {
        "colab": {
          "base_uri": "https://localhost:8080/"
        },
        "id": "FyShyMvUVg--",
        "outputId": "b0ec413e-6376-4f39-fb9b-bef3011c9381"
      },
      "execution_count": 72,
      "outputs": [
        {
          "output_type": "stream",
          "name": "stdout",
          "text": [
            "\n",
            "Rows where Age >= 30:\n",
            "      Name  Age         City  Salary\n",
            "1      Bob   30  Los Angeles   80000\n",
            "2  Charlie   35      Chicago   90000\n",
            "3    David   40      Houston   85000\n"
          ]
        }
      ]
    },
    {
      "cell_type": "code",
      "source": [
        "# Filter with multiple conditions: Age > 25 and City = 'Chicago'\n",
        "df_multiple = df[(df['Age'] > 25) & (df['City'] == 'Chicago')]"
      ],
      "metadata": {
        "id": "uIi7vbzgVict"
      },
      "execution_count": 76,
      "outputs": []
    },
    {
      "cell_type": "code",
      "source": [
        "print(\"\\nRows where Age > 25 and City = 'Chicago':\")\n",
        "print(df_multiple)"
      ],
      "metadata": {
        "colab": {
          "base_uri": "https://localhost:8080/"
        },
        "id": "UxMBFDgWVknq",
        "outputId": "b549942d-d2fb-468d-c419-3845dba31e9e"
      },
      "execution_count": 77,
      "outputs": [
        {
          "output_type": "stream",
          "name": "stdout",
          "text": [
            "\n",
            "Rows where Age > 25 and City = 'Chicago':\n",
            "      Name  Age     City  Salary\n",
            "2  Charlie   35  Chicago   90000\n"
          ]
        }
      ]
    },
    {
      "cell_type": "code",
      "source": [
        "# Select rows where City is either New York or Chicago\n",
        "cities = ['New York', 'Chicago']\n",
        "df_cities = df[df['City'].isin(cities)]"
      ],
      "metadata": {
        "id": "N-fpluItVmgW"
      },
      "execution_count": 78,
      "outputs": []
    },
    {
      "cell_type": "code",
      "source": [
        "print(\"\\nRows where City is New York or Chicago:\")\n",
        "print(df_cities)"
      ],
      "metadata": {
        "colab": {
          "base_uri": "https://localhost:8080/"
        },
        "id": "FHYwBfFqVqrb",
        "outputId": "d91a4742-54af-4d1b-8c65-e10beb2ecb62"
      },
      "execution_count": 79,
      "outputs": [
        {
          "output_type": "stream",
          "name": "stdout",
          "text": [
            "\n",
            "Rows where City is New York or Chicago:\n",
            "      Name  Age      City  Salary\n",
            "0    Alice   25  New York   70000\n",
            "2  Charlie   35   Chicago   90000\n"
          ]
        }
      ]
    },
    {
      "cell_type": "code",
      "source": [],
      "metadata": {
        "id": "4W8lMAvfVsWE"
      },
      "execution_count": null,
      "outputs": []
    },
    {
      "cell_type": "markdown",
      "source": [
        "**Setting & Resetting Index**:\n",
        "\n",
        ".set_index() → sets a column as the index.\n",
        "\n",
        ".reset_index() → restores default integer index."
      ],
      "metadata": {
        "id": "9SE5ZUHXVu-B"
      }
    },
    {
      "cell_type": "code",
      "source": [
        "# Set 'Name' as index\n",
        "df_indexed = df.set_index('Name')"
      ],
      "metadata": {
        "id": "4esebhwZVzbU"
      },
      "execution_count": 80,
      "outputs": []
    },
    {
      "cell_type": "code",
      "source": [
        "print(\"\\nDataFrame with 'Name' as index:\")\n",
        "print(df_indexed)"
      ],
      "metadata": {
        "colab": {
          "base_uri": "https://localhost:8080/"
        },
        "id": "Q8B7sHPAV3Jn",
        "outputId": "687186ca-2d53-47bc-dc49-502f632e84e8"
      },
      "execution_count": 62,
      "outputs": [
        {
          "output_type": "stream",
          "name": "stdout",
          "text": [
            "\n",
            "DataFrame with 'Name' as index:\n",
            "         Age         City  Salary\n",
            "Name                             \n",
            "Alice     25     New York   70000\n",
            "Bob       30  Los Angeles   80000\n",
            "Charlie   35      Chicago   90000\n",
            "David     40      Houston   85000\n"
          ]
        }
      ]
    },
    {
      "cell_type": "code",
      "source": [
        "# Reset index back to default numbers\n",
        "df_reset = df_indexed.reset_index()"
      ],
      "metadata": {
        "id": "UI5cbzGBV5PM"
      },
      "execution_count": null,
      "outputs": []
    },
    {
      "cell_type": "code",
      "source": [
        "print(\"\\nDataFrame after resetting index:\")\n",
        "print(df_reset)"
      ],
      "metadata": {
        "id": "t6FH2JmmV6jw"
      },
      "execution_count": null,
      "outputs": []
    },
    {
      "cell_type": "markdown",
      "source": [
        "**Operations on DataFrames**:\n",
        "\n",
        "**1. Viewing Data — .head() and .tail()**\n",
        "  \n",
        "  .head() → shows top rows (default = 5).\n",
        "\n",
        ".tail() → shows bottom rows.\n",
        "\n",
        "You can pass a number inside (e.g., head(2))."
      ],
      "metadata": {
        "id": "ZguIKsTFY-oH"
      }
    },
    {
      "cell_type": "code",
      "source": [
        "print(\"\\nFirst five rows (head):\")\n",
        "print(df.head())"
      ],
      "metadata": {
        "colab": {
          "base_uri": "https://localhost:8080/"
        },
        "id": "y5bO1MfWV77H",
        "outputId": "31f75c6f-6008-4f9b-8372-0837e8b76136"
      },
      "execution_count": 81,
      "outputs": [
        {
          "output_type": "stream",
          "name": "stdout",
          "text": [
            "\n",
            "First five rows (head):\n",
            "      Name  Age         City  Salary\n",
            "0    Alice   25     New York   70000\n",
            "1      Bob   30  Los Angeles   80000\n",
            "2  Charlie   35      Chicago   90000\n",
            "3    David   40      Houston   85000\n"
          ]
        }
      ]
    },
    {
      "cell_type": "code",
      "source": [
        "# Show last 5 rows\n",
        "print(\"\\nLast five rows (tail):\")\n",
        "print(df.tail())"
      ],
      "metadata": {
        "colab": {
          "base_uri": "https://localhost:8080/"
        },
        "id": "CxQmTc-FZSWf",
        "outputId": "556b4df2-063e-4bdf-8973-8a70b8bb3a14"
      },
      "execution_count": 82,
      "outputs": [
        {
          "output_type": "stream",
          "name": "stdout",
          "text": [
            "\n",
            "Last five rows (tail):\n",
            "      Name  Age         City  Salary\n",
            "0    Alice   25     New York   70000\n",
            "1      Bob   30  Los Angeles   80000\n",
            "2  Charlie   35      Chicago   90000\n",
            "3    David   40      Houston   85000\n"
          ]
        }
      ]
    },
    {
      "cell_type": "code",
      "source": [
        "# Show first 2 rows\n",
        "print(\"\\nFirst two rows only:\")\n",
        "print(df.head(2))"
      ],
      "metadata": {
        "colab": {
          "base_uri": "https://localhost:8080/"
        },
        "id": "EZl_55kcZVrE",
        "outputId": "5d142d00-17cb-4f50-9af3-c2a2aa9ea79a"
      },
      "execution_count": 83,
      "outputs": [
        {
          "output_type": "stream",
          "name": "stdout",
          "text": [
            "\n",
            "First two rows only:\n",
            "    Name  Age         City  Salary\n",
            "0  Alice   25     New York   70000\n",
            "1    Bob   30  Los Angeles   80000\n"
          ]
        }
      ]
    },
    {
      "cell_type": "markdown",
      "source": [
        "**Analyzing Data — .unique() and .value_counts():**\n",
        "\n",
        ".unique() → shows unique entries in a column.\n",
        "\n",
        ".value_counts() → counts how many times each value occurs.\n",
        "\n",
        "normalize=True → gives percentages instead of counts."
      ],
      "metadata": {
        "id": "9AuRdRQIZblG"
      }
    },
    {
      "cell_type": "code",
      "source": [
        "# Unique values in a column\n",
        "unique_cities = df['City'].unique()"
      ],
      "metadata": {
        "id": "B6mGYwXkZXii"
      },
      "execution_count": 84,
      "outputs": []
    },
    {
      "cell_type": "code",
      "source": [
        "print(\"\\nUnique cities in DataFrame:\")\n",
        "print(unique_cities)"
      ],
      "metadata": {
        "colab": {
          "base_uri": "https://localhost:8080/"
        },
        "id": "MWtbAq16ZkQb",
        "outputId": "ef94356e-466f-4d8c-fcee-357359560b5e"
      },
      "execution_count": 85,
      "outputs": [
        {
          "output_type": "stream",
          "name": "stdout",
          "text": [
            "\n",
            "Unique cities in DataFrame:\n",
            "['New York' 'Los Angeles' 'Chicago' 'Houston']\n"
          ]
        }
      ]
    },
    {
      "cell_type": "code",
      "source": [
        "# Value counts for each city\n",
        "city_counts = df['City'].value_counts()"
      ],
      "metadata": {
        "id": "RCBMjiH1Zlqb"
      },
      "execution_count": 86,
      "outputs": []
    },
    {
      "cell_type": "code",
      "source": [
        "print(\"\\nCity frequency counts:\")\n",
        "print(city_counts)\n"
      ],
      "metadata": {
        "colab": {
          "base_uri": "https://localhost:8080/"
        },
        "id": "KUi5uJG8ZoT8",
        "outputId": "e40fd44a-e2e6-4ce8-893f-6e6241a72c44"
      },
      "execution_count": 87,
      "outputs": [
        {
          "output_type": "stream",
          "name": "stdout",
          "text": [
            "\n",
            "City frequency counts:\n",
            "City\n",
            "New York       1\n",
            "Los Angeles    1\n",
            "Chicago        1\n",
            "Houston        1\n",
            "Name: count, dtype: int64\n"
          ]
        }
      ]
    },
    {
      "cell_type": "code",
      "source": [
        "# Value counts normalized (percentage)\n",
        "city_normalized = df['City'].value_counts(normalize=True)"
      ],
      "metadata": {
        "id": "VvcROgdZZqEF"
      },
      "execution_count": 88,
      "outputs": []
    },
    {
      "cell_type": "code",
      "source": [
        "print(\"\\nCity counts normalized (percentages):\")\n",
        "print(city_normalized)\n"
      ],
      "metadata": {
        "colab": {
          "base_uri": "https://localhost:8080/"
        },
        "id": "9UIF3QLlZvRB",
        "outputId": "edd7d3e7-5cc7-46da-9dc4-d2d52ea3c22a"
      },
      "execution_count": 89,
      "outputs": [
        {
          "output_type": "stream",
          "name": "stdout",
          "text": [
            "\n",
            "City counts normalized (percentages):\n",
            "City\n",
            "New York       0.25\n",
            "Los Angeles    0.25\n",
            "Chicago        0.25\n",
            "Houston        0.25\n",
            "Name: proportion, dtype: float64\n"
          ]
        }
      ]
    },
    {
      "cell_type": "markdown",
      "source": [
        "**3. Applying Functions with .apply()**\n",
        "\n",
        ".apply() → applies a function to each element of a column.\n",
        "\n",
        "Can use custom functions or lambda (inline) functions."
      ],
      "metadata": {
        "id": "me9y-alIaLA_"
      }
    },
    {
      "cell_type": "code",
      "source": [
        "# Custom function to categorize ages\n",
        "def age_group(age):\n",
        "    if age < 30:\n",
        "        return 'Young'\n",
        "    elif age < 40:\n",
        "        return 'Mid-age'\n",
        "    else:\n",
        "        return 'Old'"
      ],
      "metadata": {
        "id": "-8dxciXkZxS5"
      },
      "execution_count": 90,
      "outputs": []
    },
    {
      "cell_type": "code",
      "source": [
        "# Apply the function to Age column\n",
        "df['Age Group'] = df['Age'].apply(age_group)"
      ],
      "metadata": {
        "id": "8Jew72LBaS6C"
      },
      "execution_count": 91,
      "outputs": []
    },
    {
      "cell_type": "code",
      "source": [
        "print(\"\\nDataFrame after adding 'Age Group':\")\n",
        "print(df)"
      ],
      "metadata": {
        "colab": {
          "base_uri": "https://localhost:8080/"
        },
        "id": "sC_c0PdfaUyS",
        "outputId": "d54a52dc-681c-469d-90d5-38b66748c9cb"
      },
      "execution_count": 92,
      "outputs": [
        {
          "output_type": "stream",
          "name": "stdout",
          "text": [
            "\n",
            "DataFrame after adding 'Age Group':\n",
            "      Name  Age         City  Salary Age Group\n",
            "0    Alice   25     New York   70000     Young\n",
            "1      Bob   30  Los Angeles   80000   Mid-age\n",
            "2  Charlie   35      Chicago   90000   Mid-age\n",
            "3    David   40      Houston   85000       Old\n"
          ]
        }
      ]
    },
    {
      "cell_type": "code",
      "source": [
        "# Using a lambda function: square of Age\n",
        "df['Age Squared'] = df['Age'].apply(lambda x: x**2)"
      ],
      "metadata": {
        "id": "LDctFfhgaW4T"
      },
      "execution_count": 93,
      "outputs": []
    },
    {
      "cell_type": "code",
      "source": [
        "print(\"\\nDataFrame after adding 'Age Squared':\")\n",
        "print(df)"
      ],
      "metadata": {
        "colab": {
          "base_uri": "https://localhost:8080/"
        },
        "id": "ICpsYfkZacM-",
        "outputId": "30a84364-67d5-47e2-a29e-c7d78d5948a3"
      },
      "execution_count": 94,
      "outputs": [
        {
          "output_type": "stream",
          "name": "stdout",
          "text": [
            "\n",
            "DataFrame after adding 'Age Squared':\n",
            "      Name  Age         City  Salary Age Group  Age Squared\n",
            "0    Alice   25     New York   70000     Young          625\n",
            "1      Bob   30  Los Angeles   80000   Mid-age          900\n",
            "2  Charlie   35      Chicago   90000   Mid-age         1225\n",
            "3    David   40      Houston   85000       Old         1600\n"
          ]
        }
      ]
    },
    {
      "cell_type": "code",
      "source": [],
      "metadata": {
        "id": "qli1_mvGadn4"
      },
      "execution_count": null,
      "outputs": []
    },
    {
      "cell_type": "markdown",
      "source": [
        "**4. Getting Column Names & Index Values:**\n",
        "\n",
        "df.columns.tolist() → returns all column names.\n",
        "\n",
        "df.index.tolist() → returns row index values."
      ],
      "metadata": {
        "id": "qdwtTQWPmpJQ"
      }
    },
    {
      "cell_type": "code",
      "source": [
        "# List of column names\n",
        "print(\"\\nColumn names:\")\n",
        "print(df.columns.tolist())"
      ],
      "metadata": {
        "colab": {
          "base_uri": "https://localhost:8080/"
        },
        "id": "pRu1Lu9smwCF",
        "outputId": "69929171-f4c5-4a02-f579-03ec8612beed"
      },
      "execution_count": 95,
      "outputs": [
        {
          "output_type": "stream",
          "name": "stdout",
          "text": [
            "\n",
            "Column names:\n",
            "['Name', 'Age', 'City', 'Salary', 'Age Group', 'Age Squared']\n"
          ]
        }
      ]
    },
    {
      "cell_type": "code",
      "source": [
        "# List of index values\n",
        "print(\"\\nIndex values:\")\n",
        "print(df.index.tolist())"
      ],
      "metadata": {
        "colab": {
          "base_uri": "https://localhost:8080/"
        },
        "id": "2vR4D-ALmyr8",
        "outputId": "478f5987-9126-47c0-8e61-3b3bfbeab435"
      },
      "execution_count": 96,
      "outputs": [
        {
          "output_type": "stream",
          "name": "stdout",
          "text": [
            "\n",
            "Index values:\n",
            "[0, 1, 2, 3]\n"
          ]
        }
      ]
    },
    {
      "cell_type": "code",
      "source": [],
      "metadata": {
        "id": "vEl02Ylwm10e"
      },
      "execution_count": null,
      "outputs": []
    },
    {
      "cell_type": "markdown",
      "source": [
        "**5. Sorting & Ordering**\n",
        "\n",
        ".sort_values() → sorts rows by a column (or multiple).\n",
        "\n",
        "ascending=[True, False] → sort direction per column.\n",
        "\n",
        "na_position='first' → puts missing values at the top.\n"
      ],
      "metadata": {
        "id": "uyjmTNefm8EN"
      }
    },
    {
      "cell_type": "code",
      "source": [
        "df_sorted_age = df.sort_values(by='Age')"
      ],
      "metadata": {
        "id": "myV58ZQkm_AQ"
      },
      "execution_count": 97,
      "outputs": []
    },
    {
      "cell_type": "code",
      "source": [
        "print(\"\\nSorted by Age (ascending):\")\n",
        "print(df_sorted_age)"
      ],
      "metadata": {
        "colab": {
          "base_uri": "https://localhost:8080/"
        },
        "id": "R7x_K4qMnKSH",
        "outputId": "8e7c5c82-6fb1-4280-e577-35d38d4b587b"
      },
      "execution_count": 98,
      "outputs": [
        {
          "output_type": "stream",
          "name": "stdout",
          "text": [
            "\n",
            "Sorted by Age (ascending):\n",
            "      Name  Age         City  Salary Age Group  Age Squared\n",
            "0    Alice   25     New York   70000     Young          625\n",
            "1      Bob   30  Los Angeles   80000   Mid-age          900\n",
            "2  Charlie   35      Chicago   90000   Mid-age         1225\n",
            "3    David   40      Houston   85000       Old         1600\n"
          ]
        }
      ]
    },
    {
      "cell_type": "code",
      "source": [
        "# Sort by City (asc) then Age (desc)\n",
        "df_sorted_multi = df.sort_values(by=['City','Age'], ascending=[True, False])"
      ],
      "metadata": {
        "id": "JZRjSXrvnN3s"
      },
      "execution_count": 103,
      "outputs": []
    },
    {
      "cell_type": "code",
      "source": [
        "print(\"\\nSorted by City (A-Z) and Age (high to low):\")\n",
        "print(df_sorted_multi)"
      ],
      "metadata": {
        "colab": {
          "base_uri": "https://localhost:8080/"
        },
        "id": "Gaq1ySMYnRln",
        "outputId": "1e254d02-e024-4ec4-cb59-33817343be09"
      },
      "execution_count": 102,
      "outputs": [
        {
          "output_type": "stream",
          "name": "stdout",
          "text": [
            "\n",
            "Sorted by City (A-Z) and Age (high to low):\n",
            "      Name  Age         City  Salary Age Group  Age Squared\n",
            "2  Charlie   35      Chicago   90000   Mid-age         1225\n",
            "3    David   40      Houston   85000       Old         1600\n",
            "1      Bob   30  Los Angeles   80000   Mid-age          900\n",
            "0    Alice   25     New York   70000     Young          625\n"
          ]
        }
      ]
    },
    {
      "cell_type": "code",
      "source": [
        "# Sort by Salary with NaN values\n",
        "df.loc[1, 'Salary'] = None   # Insert a NaN for demo\n",
        "df_sorted_nan = df.sort_values(by='Salary', na_position='first')"
      ],
      "metadata": {
        "id": "vTKNDZZinZ4p"
      },
      "execution_count": 104,
      "outputs": []
    },
    {
      "cell_type": "code",
      "source": [
        "print(\"\\nSorted by Salary with NaN at the top:\")\n",
        "print(df_sorted_nan)"
      ],
      "metadata": {
        "colab": {
          "base_uri": "https://localhost:8080/"
        },
        "id": "xeu-rmS9oC4N",
        "outputId": "b416d8ae-ee71-40fc-fb35-82eb4f721ad6"
      },
      "execution_count": 105,
      "outputs": [
        {
          "output_type": "stream",
          "name": "stdout",
          "text": [
            "\n",
            "Sorted by Salary with NaN at the top:\n",
            "      Name  Age         City   Salary Age Group  Age Squared\n",
            "1      Bob   30  Los Angeles      NaN   Mid-age          900\n",
            "0    Alice   25     New York  70000.0     Young          625\n",
            "3    David   40      Houston  85000.0       Old         1600\n",
            "2  Charlie   35      Chicago  90000.0   Mid-age         1225\n"
          ]
        }
      ]
    },
    {
      "cell_type": "code",
      "source": [],
      "metadata": {
        "id": "G467OyVcoEdq"
      },
      "execution_count": null,
      "outputs": []
    },
    {
      "cell_type": "markdown",
      "source": [
        "**6. Handling Missing Values:**\n",
        "\n",
        "  .isnull() → checks missing values.\n",
        "\n",
        ".fillna() → fills missing values with specified method/constant/statistic.\n",
        "\n",
        ".replace() → replaces specific values.\n",
        "\n"
      ],
      "metadata": {
        "id": "fRSo6rwEoMKB"
      }
    },
    {
      "cell_type": "code",
      "source": [
        "# Detect missing values (True/False)\n",
        "print(\"\\nCheck for missing values:\")\n",
        "print(df.isnull())"
      ],
      "metadata": {
        "colab": {
          "base_uri": "https://localhost:8080/"
        },
        "id": "zNj0sWgVoOyb",
        "outputId": "cba0f28c-d1ab-40a0-afe1-ffeb2d0a85df"
      },
      "execution_count": 106,
      "outputs": [
        {
          "output_type": "stream",
          "name": "stdout",
          "text": [
            "\n",
            "Check for missing values:\n",
            "    Name    Age   City  Salary  Age Group  Age Squared\n",
            "0  False  False  False   False      False        False\n",
            "1  False  False  False    True      False        False\n",
            "2  False  False  False   False      False        False\n",
            "3  False  False  False   False      False        False\n"
          ]
        }
      ]
    },
    {
      "cell_type": "code",
      "source": [
        "# Count missing values per column\n",
        "print(\"\\nCount of missing values per column:\")\n",
        "print(df.isnull().sum())"
      ],
      "metadata": {
        "colab": {
          "base_uri": "https://localhost:8080/"
        },
        "id": "mglCt7HaoU-r",
        "outputId": "b776356a-005c-4b80-c2ed-7d84f7b449d2"
      },
      "execution_count": 107,
      "outputs": [
        {
          "output_type": "stream",
          "name": "stdout",
          "text": [
            "\n",
            "Count of missing values per column:\n",
            "Name           0\n",
            "Age            0\n",
            "City           0\n",
            "Salary         1\n",
            "Age Group      0\n",
            "Age Squared    0\n",
            "dtype: int64\n"
          ]
        }
      ]
    },
    {
      "cell_type": "code",
      "source": [
        "# Fill missing values with mean (for numeric column)\n",
        "df['Salary'] = df['Salary'].fillna(df['Salary'].mean())\n",
        "print(\"\\nAfter filling missing Salary values with mean:\")\n",
        "print(df)\n"
      ],
      "metadata": {
        "colab": {
          "base_uri": "https://localhost:8080/"
        },
        "id": "19XoEU5IoWm9",
        "outputId": "a08810e2-bfbe-4e8b-862d-ba7dd668220a"
      },
      "execution_count": 108,
      "outputs": [
        {
          "output_type": "stream",
          "name": "stdout",
          "text": [
            "\n",
            "After filling missing Salary values with mean:\n",
            "      Name  Age         City        Salary Age Group  Age Squared\n",
            "0    Alice   25     New York  70000.000000     Young          625\n",
            "1      Bob   30  Los Angeles  81666.666667   Mid-age          900\n",
            "2  Charlie   35      Chicago  90000.000000   Mid-age         1225\n",
            "3    David   40      Houston  85000.000000       Old         1600\n"
          ]
        }
      ]
    },
    {
      "cell_type": "code",
      "source": [
        "# Replace a value in a column\n",
        "df['City'] = df['City'].replace('Chicago', 'Chi-Town')\n",
        "print(\"\\nAfter replacing 'Chicago' with 'Chi-Town':\")\n",
        "print(df)"
      ],
      "metadata": {
        "colab": {
          "base_uri": "https://localhost:8080/"
        },
        "id": "d0ksw6VSoYfQ",
        "outputId": "679a5a1c-89dd-4404-8a84-c86e57c59cb7"
      },
      "execution_count": 109,
      "outputs": [
        {
          "output_type": "stream",
          "name": "stdout",
          "text": [
            "\n",
            "After replacing 'Chicago' with 'Chi-Town':\n",
            "      Name  Age         City        Salary Age Group  Age Squared\n",
            "0    Alice   25     New York  70000.000000     Young          625\n",
            "1      Bob   30  Los Angeles  81666.666667   Mid-age          900\n",
            "2  Charlie   35     Chi-Town  90000.000000   Mid-age         1225\n",
            "3    David   40      Houston  85000.000000       Old         1600\n"
          ]
        }
      ]
    },
    {
      "cell_type": "code",
      "source": [],
      "metadata": {
        "id": "tBaW5RZsoaYA"
      },
      "execution_count": null,
      "outputs": []
    },
    {
      "cell_type": "markdown",
      "source": [
        "**7. Dropping Rows & Columns:**\n",
        "\n",
        ".drop(columns=[]) → removes a column.\n",
        "\n",
        ".dropna() → removes rows with missing values.\n",
        "\n",
        ".drop(index=0) → removes a specific row.\n",
        "\n",
        ".drop_duplicates() → removes duplicate rows."
      ],
      "metadata": {
        "id": "_xCGsHHxomWh"
      }
    },
    {
      "cell_type": "code",
      "source": [
        "# Drop a column\n",
        "df_drop_col = df.drop(columns=['Age Squared'])"
      ],
      "metadata": {
        "id": "-Mn2rl_4oq9K"
      },
      "execution_count": 110,
      "outputs": []
    },
    {
      "cell_type": "code",
      "source": [
        "print(\"\\nAfter dropping 'Age Squared' column:\")\n",
        "print(df_drop_col)"
      ],
      "metadata": {
        "colab": {
          "base_uri": "https://localhost:8080/"
        },
        "id": "-dgr0SMgouLG",
        "outputId": "be6b1023-8a50-450f-bd9b-484c50b413af"
      },
      "execution_count": 111,
      "outputs": [
        {
          "output_type": "stream",
          "name": "stdout",
          "text": [
            "\n",
            "After dropping 'Age Squared' column:\n",
            "      Name  Age         City        Salary Age Group\n",
            "0    Alice   25     New York  70000.000000     Young\n",
            "1      Bob   30  Los Angeles  81666.666667   Mid-age\n",
            "2  Charlie   35     Chi-Town  90000.000000   Mid-age\n",
            "3    David   40      Houston  85000.000000       Old\n"
          ]
        }
      ]
    },
    {
      "cell_type": "code",
      "source": [
        "# Drop rows with any missing values\n",
        "df_dropna = df.dropna()"
      ],
      "metadata": {
        "id": "Lm_A8HmrovWF"
      },
      "execution_count": 112,
      "outputs": []
    },
    {
      "cell_type": "code",
      "source": [
        "print(\"\\nAfter dropping rows with missing values:\")\n",
        "print(df_dropna)"
      ],
      "metadata": {
        "colab": {
          "base_uri": "https://localhost:8080/"
        },
        "id": "9QMbsyICo0CR",
        "outputId": "28f2fead-21bf-41eb-8028-d9aaf044053b"
      },
      "execution_count": 113,
      "outputs": [
        {
          "output_type": "stream",
          "name": "stdout",
          "text": [
            "\n",
            "After dropping rows with missing values:\n",
            "      Name  Age         City        Salary Age Group  Age Squared\n",
            "0    Alice   25     New York  70000.000000     Young          625\n",
            "1      Bob   30  Los Angeles  81666.666667   Mid-age          900\n",
            "2  Charlie   35     Chi-Town  90000.000000   Mid-age         1225\n",
            "3    David   40      Houston  85000.000000       Old         1600\n"
          ]
        }
      ]
    },
    {
      "cell_type": "code",
      "source": [
        "# Drop a row by index\n",
        "df_drop_row = df.drop(index=0)"
      ],
      "metadata": {
        "id": "winGcry9o1pt"
      },
      "execution_count": 114,
      "outputs": []
    },
    {
      "cell_type": "code",
      "source": [
        "print(\"\\nAfter dropping row with index 0:\")\n",
        "print(df_drop_row)"
      ],
      "metadata": {
        "colab": {
          "base_uri": "https://localhost:8080/"
        },
        "id": "5ujvP2fPo9bZ",
        "outputId": "4c7f87a2-b43e-476c-9f6b-a2ae5ce305db"
      },
      "execution_count": 115,
      "outputs": [
        {
          "output_type": "stream",
          "name": "stdout",
          "text": [
            "\n",
            "After dropping row with index 0:\n",
            "      Name  Age         City        Salary Age Group  Age Squared\n",
            "1      Bob   30  Los Angeles  81666.666667   Mid-age          900\n",
            "2  Charlie   35     Chi-Town  90000.000000   Mid-age         1225\n",
            "3    David   40      Houston  85000.000000       Old         1600\n"
          ]
        }
      ]
    },
    {
      "cell_type": "code",
      "source": [],
      "metadata": {
        "id": "wC9qkeAzo_H4"
      },
      "execution_count": 116,
      "outputs": []
    },
    {
      "cell_type": "markdown",
      "source": [
        "**Missing Data Handling in Pandas:**:\n",
        "\n",
        "Missing data is common in real-world datasets. Pandas provides several ways to detect, remove, or fill missing values.\n",
        "\n",
        "\n",
        ".isnull() → Boolean mask of missing values.\n",
        "\n",
        ".notnull() → Opposite of .isnull().\n",
        "\n",
        ".sum() → counts how many missing values each column has."
      ],
      "metadata": {
        "id": "DDA1adCqpYmU"
      }
    },
    {
      "cell_type": "code",
      "source": [
        "# Sample DataFrame with missing values\n",
        "import numpy as np\n",
        "data_missing = {\n",
        "    'Name': ['Alice', 'Bob', None, 'David', 'Eve'],\n",
        "    'Age': [25, np.nan, 35, None, 38],\n",
        "    'City': ['New York', 'Los Angeles', None, 'Houston', 'Phoenix'],\n",
        "    'Salary': [70000, 85000, None, 65000, 90000]\n",
        "}"
      ],
      "metadata": {
        "id": "SaegEPJHpEFu"
      },
      "execution_count": 118,
      "outputs": []
    },
    {
      "cell_type": "code",
      "source": [
        "df = pd.DataFrame(data_missing)"
      ],
      "metadata": {
        "id": "Rzo89-WkpjhI"
      },
      "execution_count": 119,
      "outputs": []
    },
    {
      "cell_type": "code",
      "source": [
        "print(\"Original DataFrame with missing values:\")\n",
        "print(df)"
      ],
      "metadata": {
        "colab": {
          "base_uri": "https://localhost:8080/"
        },
        "id": "RBovFYtCpwYE",
        "outputId": "d126d360-680c-4067-e3e9-050e5a998b30"
      },
      "execution_count": 120,
      "outputs": [
        {
          "output_type": "stream",
          "name": "stdout",
          "text": [
            "Original DataFrame with missing values:\n",
            "    Name   Age         City   Salary\n",
            "0  Alice  25.0     New York  70000.0\n",
            "1    Bob   NaN  Los Angeles  85000.0\n",
            "2   None  35.0         None      NaN\n",
            "3  David   NaN      Houston  65000.0\n",
            "4    Eve  38.0      Phoenix  90000.0\n"
          ]
        }
      ]
    },
    {
      "cell_type": "code",
      "source": [
        "# Check for missing values (True = missing)\n",
        "print(\"\\nCheck for missing data (True = missing):\")\n",
        "print(df.isnull())"
      ],
      "metadata": {
        "colab": {
          "base_uri": "https://localhost:8080/"
        },
        "id": "4RVrTYmDpyGJ",
        "outputId": "454e2937-4d04-4f21-cd0c-b60b0ffdb9f8"
      },
      "execution_count": 121,
      "outputs": [
        {
          "output_type": "stream",
          "name": "stdout",
          "text": [
            "\n",
            "Check for missing data (True = missing):\n",
            "    Name    Age   City  Salary\n",
            "0  False  False  False   False\n",
            "1  False   True  False   False\n",
            "2   True  False   True    True\n",
            "3  False   True  False   False\n",
            "4  False  False  False   False\n"
          ]
        }
      ]
    },
    {
      "cell_type": "code",
      "source": [
        "\n",
        "# Opposite check: non-missing values\n",
        "print(\"\\nCheck for non-missing data (True = not missing):\")\n",
        "print(df.notnull())\n"
      ],
      "metadata": {
        "colab": {
          "base_uri": "https://localhost:8080/"
        },
        "id": "ErvnYAubp2hk",
        "outputId": "60eff140-120b-4fba-d0b3-620e28c61ccb"
      },
      "execution_count": 122,
      "outputs": [
        {
          "output_type": "stream",
          "name": "stdout",
          "text": [
            "\n",
            "Check for non-missing data (True = not missing):\n",
            "    Name    Age   City  Salary\n",
            "0   True   True   True    True\n",
            "1   True  False   True    True\n",
            "2  False   True  False   False\n",
            "3   True  False   True    True\n",
            "4   True   True   True    True\n"
          ]
        }
      ]
    },
    {
      "cell_type": "code",
      "source": [
        "# Count missing values per column\n",
        "print(\"\\nMissing values count per column:\")\n",
        "print(df.isnull().sum())"
      ],
      "metadata": {
        "colab": {
          "base_uri": "https://localhost:8080/"
        },
        "id": "kNOcUINrp5fs",
        "outputId": "23a7273c-2ede-4eb4-b568-869205d5ce94"
      },
      "execution_count": 123,
      "outputs": [
        {
          "output_type": "stream",
          "name": "stdout",
          "text": [
            "\n",
            "Missing values count per column:\n",
            "Name      1\n",
            "Age       2\n",
            "City      1\n",
            "Salary    1\n",
            "dtype: int64\n"
          ]
        }
      ]
    },
    {
      "cell_type": "markdown",
      "source": [
        "**2. Dropping Missing Data:**\n",
        "\n",
        "dropna() → drops rows with missing values (default).\n",
        "\n",
        "dropna(axis=1) → drops columns with missing values."
      ],
      "metadata": {
        "id": "s7N2pcQ8qM5I"
      }
    },
    {
      "cell_type": "code",
      "source": [
        "# Drop rows with any missing values\n",
        "df_dropped_rows = df.dropna()"
      ],
      "metadata": {
        "id": "OaPMQtWMqB3N"
      },
      "execution_count": 125,
      "outputs": []
    },
    {
      "cell_type": "code",
      "source": [
        "print(\"\\nAfter dropping rows with any missing value:\")\n",
        "print(df_dropped_rows)"
      ],
      "metadata": {
        "colab": {
          "base_uri": "https://localhost:8080/"
        },
        "id": "3BYfNTvIqVLP",
        "outputId": "d3e89abe-3c93-42e1-cc87-49f66790f148"
      },
      "execution_count": 126,
      "outputs": [
        {
          "output_type": "stream",
          "name": "stdout",
          "text": [
            "\n",
            "After dropping rows with any missing value:\n",
            "    Name   Age      City   Salary\n",
            "0  Alice  25.0  New York  70000.0\n",
            "4    Eve  38.0   Phoenix  90000.0\n"
          ]
        }
      ]
    },
    {
      "cell_type": "code",
      "source": [
        "# Drop columns with any missing values\n",
        "df_dropped_cols = df.dropna(axis=1)"
      ],
      "metadata": {
        "id": "PTW6LK4_qanM"
      },
      "execution_count": 127,
      "outputs": []
    },
    {
      "cell_type": "code",
      "source": [
        "print(\"\\nAfter dropping columns with any missing value:\")\n",
        "print(df_dropped_cols)"
      ],
      "metadata": {
        "colab": {
          "base_uri": "https://localhost:8080/"
        },
        "id": "QfMR7d7kqcTs",
        "outputId": "7c4bca0f-2049-4aa0-d3e1-be4cd2b22f46"
      },
      "execution_count": 128,
      "outputs": [
        {
          "output_type": "stream",
          "name": "stdout",
          "text": [
            "\n",
            "After dropping columns with any missing value:\n",
            "Empty DataFrame\n",
            "Columns: []\n",
            "Index: [0, 1, 2, 3, 4]\n"
          ]
        }
      ]
    },
    {
      "cell_type": "code",
      "source": [],
      "metadata": {
        "id": "1iaCnOaqqejn"
      },
      "execution_count": null,
      "outputs": []
    },
    {
      "cell_type": "markdown",
      "source": [
        "**3. Filling Missing Data:**\n",
        "\n",
        ".fillna(constant) → fills missing values with a fixed constant.\n",
        "\n",
        ".fillna(df['col'].mean()) → fills numeric missing values with the mean.\n",
        "\n"
      ],
      "metadata": {
        "id": "_O2oK4TCqlM-"
      }
    },
    {
      "cell_type": "code",
      "source": [
        "# Fill missing values with constant values\n",
        "df_filled_const = df.fillna(value={'Age': 0, 'Salary': 50000, 'City': 'Unknown'})"
      ],
      "metadata": {
        "id": "Hv9nJC61qn-I"
      },
      "execution_count": 129,
      "outputs": []
    },
    {
      "cell_type": "code",
      "source": [
        "print(\"\\nAfter filling missing values with constants:\")\n",
        "print(df_filled_const)"
      ],
      "metadata": {
        "colab": {
          "base_uri": "https://localhost:8080/"
        },
        "id": "a72KrDoJqqTA",
        "outputId": "9ea16387-7e63-4313-86fb-dd6f6b723ad1"
      },
      "execution_count": 130,
      "outputs": [
        {
          "output_type": "stream",
          "name": "stdout",
          "text": [
            "\n",
            "After filling missing values with constants:\n",
            "    Name   Age         City   Salary\n",
            "0  Alice  25.0     New York  70000.0\n",
            "1    Bob   0.0  Los Angeles  85000.0\n",
            "2   None  35.0      Unknown  50000.0\n",
            "3  David   0.0      Houston  65000.0\n",
            "4    Eve  38.0      Phoenix  90000.0\n"
          ]
        }
      ]
    },
    {
      "cell_type": "code",
      "source": [
        "# Fill missing numeric values with column mean\n",
        "df['Age'] = df['Age'].fillna(df['Age'].mean())\n",
        "df['Salary'] = df['Salary'].fillna(df['Salary'].mean())"
      ],
      "metadata": {
        "id": "49hv9z1eqsp7"
      },
      "execution_count": 131,
      "outputs": []
    },
    {
      "cell_type": "code",
      "source": [
        "print(\"\\nAfter filling numeric columns with mean:\")\n",
        "print(df)"
      ],
      "metadata": {
        "colab": {
          "base_uri": "https://localhost:8080/"
        },
        "id": "Zqh-WGgTqwoI",
        "outputId": "54fb6d57-bb5c-4f0e-a1b9-4e6e57dcc839"
      },
      "execution_count": 132,
      "outputs": [
        {
          "output_type": "stream",
          "name": "stdout",
          "text": [
            "\n",
            "After filling numeric columns with mean:\n",
            "    Name        Age         City   Salary\n",
            "0  Alice  25.000000     New York  70000.0\n",
            "1    Bob  32.666667  Los Angeles  85000.0\n",
            "2   None  35.000000         None  77500.0\n",
            "3  David  32.666667      Houston  65000.0\n",
            "4    Eve  38.000000      Phoenix  90000.0\n"
          ]
        }
      ]
    },
    {
      "cell_type": "markdown",
      "source": [
        "**Forward Fill & Backward Fill:**\n",
        "\n",
        "Forward Fill (ffill) → replaces missing value with value above it.\n",
        "\n",
        "Backward Fill (bfill) → replaces missing value with value below it."
      ],
      "metadata": {
        "id": "jeoxzs_NrDfb"
      }
    },
    {
      "cell_type": "code",
      "source": [
        "# Forward fill: fill missing value with the last known value\n",
        "df_ffill = df.fillna(method='ffill')"
      ],
      "metadata": {
        "colab": {
          "base_uri": "https://localhost:8080/"
        },
        "id": "1frjLBTXrIYw",
        "outputId": "c3c0c1ba-b1e2-44ad-ac45-8481a4711558"
      },
      "execution_count": 133,
      "outputs": [
        {
          "output_type": "stream",
          "name": "stderr",
          "text": [
            "/tmp/ipython-input-2641141598.py:2: FutureWarning: DataFrame.fillna with 'method' is deprecated and will raise in a future version. Use obj.ffill() or obj.bfill() instead.\n",
            "  df_ffill = df.fillna(method='ffill')\n"
          ]
        }
      ]
    },
    {
      "cell_type": "code",
      "source": [
        "print(\"\\nAfter forward-fill (use previous value):\")\n",
        "print(df_ffill)"
      ],
      "metadata": {
        "colab": {
          "base_uri": "https://localhost:8080/"
        },
        "id": "pAz9rQ9LrK3E",
        "outputId": "9c3378ae-45ab-401a-bbf9-dcefcd3070ae"
      },
      "execution_count": 134,
      "outputs": [
        {
          "output_type": "stream",
          "name": "stdout",
          "text": [
            "\n",
            "After forward-fill (use previous value):\n",
            "    Name        Age         City   Salary\n",
            "0  Alice  25.000000     New York  70000.0\n",
            "1    Bob  32.666667  Los Angeles  85000.0\n",
            "2    Bob  35.000000  Los Angeles  77500.0\n",
            "3  David  32.666667      Houston  65000.0\n",
            "4    Eve  38.000000      Phoenix  90000.0\n"
          ]
        }
      ]
    },
    {
      "cell_type": "code",
      "source": [
        "# Backward fill: fill missing value with the next known value\n",
        "df_bfill = df.fillna(method='bfill')"
      ],
      "metadata": {
        "colab": {
          "base_uri": "https://localhost:8080/"
        },
        "id": "v8rUNcN5rMxy",
        "outputId": "3df9298f-d0ee-4695-ab2c-eb13ccf0f289"
      },
      "execution_count": 135,
      "outputs": [
        {
          "output_type": "stream",
          "name": "stderr",
          "text": [
            "/tmp/ipython-input-2112629311.py:2: FutureWarning: DataFrame.fillna with 'method' is deprecated and will raise in a future version. Use obj.ffill() or obj.bfill() instead.\n",
            "  df_bfill = df.fillna(method='bfill')\n"
          ]
        }
      ]
    },
    {
      "cell_type": "code",
      "source": [
        "print(\"\\nAfter backward-fill (use next value):\")\n",
        "print(df_bfill)"
      ],
      "metadata": {
        "colab": {
          "base_uri": "https://localhost:8080/"
        },
        "id": "erlwV7XerPwQ",
        "outputId": "8280d004-a939-41df-d542-244920a461cd"
      },
      "execution_count": 136,
      "outputs": [
        {
          "output_type": "stream",
          "name": "stdout",
          "text": [
            "\n",
            "After backward-fill (use next value):\n",
            "    Name        Age         City   Salary\n",
            "0  Alice  25.000000     New York  70000.0\n",
            "1    Bob  32.666667  Los Angeles  85000.0\n",
            "2  David  35.000000      Houston  77500.0\n",
            "3  David  32.666667      Houston  65000.0\n",
            "4    Eve  38.000000      Phoenix  90000.0\n"
          ]
        }
      ]
    },
    {
      "cell_type": "code",
      "source": [],
      "metadata": {
        "id": "hkmeLYT-rRN6"
      },
      "execution_count": null,
      "outputs": []
    }
  ]
}