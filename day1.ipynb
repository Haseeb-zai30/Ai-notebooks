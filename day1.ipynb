{
  "nbformat": 4,
  "nbformat_minor": 0,
  "metadata": {
    "colab": {
      "provenance": [],
      "authorship_tag": "ABX9TyOPtWQ/gV0u5yeG264ElTHA",
      "include_colab_link": true
    },
    "kernelspec": {
      "name": "python3",
      "display_name": "Python 3"
    },
    "language_info": {
      "name": "python"
    }
  },
  "cells": [
    {
      "cell_type": "markdown",
      "metadata": {
        "id": "view-in-github",
        "colab_type": "text"
      },
      "source": [
        "<a href=\"https://colab.research.google.com/github/Haseeb-zai30/Ai-notebooks/blob/main/day1.ipynb\" target=\"_parent\"><img src=\"https://colab.research.google.com/assets/colab-badge.svg\" alt=\"Open In Colab\"/></a>"
      ]
    },
    {
      "cell_type": "markdown",
      "source": [
        "**DAY 1: NumPy & Data Preprocessing for ML**"
      ],
      "metadata": {
        "id": "jBI2DLd6oiKA"
      }
    },
    {
      "cell_type": "markdown",
      "source": [
        "**Numpy:**\n",
        "1. core library for scientific and numerical computing in Python\n",
        "2. powerful N-dimensional array object (ndarray)\n",
        "3. a collection of tools for efficient operations on large datasets.\n",
        "\n",
        "**Importance:**\n",
        "1. Performance\n",
        "2. Foundation for ML\n",
        "3. Data preprocessing"
      ],
      "metadata": {
        "id": "3hiybpeRo0em"
      }
    },
    {
      "cell_type": "code",
      "execution_count": 1,
      "metadata": {
        "colab": {
          "base_uri": "https://localhost:8080/"
        },
        "id": "7qZbi-TEoVWv",
        "outputId": "cb041056-40f8-41d6-8c05-656c4a16daa8"
      },
      "outputs": [
        {
          "output_type": "stream",
          "name": "stdout",
          "text": [
            "Requirement already satisfied: numpy in /usr/local/lib/python3.12/dist-packages (2.0.2)\n"
          ]
        }
      ],
      "source": [
        "!pip install numpy #installing numpy to our venv"
      ]
    },
    {
      "cell_type": "code",
      "source": [
        "import numpy as np"
      ],
      "metadata": {
        "id": "Maan-m4pqU6A"
      },
      "execution_count": 2,
      "outputs": []
    },
    {
      "cell_type": "markdown",
      "source": [
        "creating 1D array"
      ],
      "metadata": {
        "id": "xr2LQhS8rHiZ"
      }
    },
    {
      "cell_type": "code",
      "source": [
        "X = np.array([1.2, 3.4])"
      ],
      "metadata": {
        "id": "ezjf0RZZqy67"
      },
      "execution_count": 13,
      "outputs": []
    },
    {
      "cell_type": "markdown",
      "source": [
        "Manipulation"
      ],
      "metadata": {
        "id": "0S2u1RAQrjKl"
      }
    },
    {
      "cell_type": "code",
      "source": [
        "X[0]=2"
      ],
      "metadata": {
        "id": "7kk64JaYrMWc"
      },
      "execution_count": 14,
      "outputs": []
    },
    {
      "cell_type": "code",
      "source": [
        "X"
      ],
      "metadata": {
        "colab": {
          "base_uri": "https://localhost:8080/"
        },
        "id": "cddz9vbUq3VI",
        "outputId": "02316d42-5b7b-4f22-f81b-2d68fc3773ed"
      },
      "execution_count": 15,
      "outputs": [
        {
          "output_type": "execute_result",
          "data": {
            "text/plain": [
              "array([2. , 3.4])"
            ]
          },
          "metadata": {},
          "execution_count": 15
        }
      ]
    },
    {
      "cell_type": "markdown",
      "source": [
        "creating 2D array"
      ],
      "metadata": {
        "id": "fSe8DLBVrV1D"
      }
    },
    {
      "cell_type": "code",
      "source": [
        "X = np.array([[1.2, 3.4], [5.6, 7.8]])"
      ],
      "metadata": {
        "id": "OnrFU4rfq6Rm"
      },
      "execution_count": 19,
      "outputs": []
    },
    {
      "cell_type": "code",
      "source": [
        "X[1][0]=1"
      ],
      "metadata": {
        "id": "t02NH32SrF4J"
      },
      "execution_count": 20,
      "outputs": []
    },
    {
      "cell_type": "code",
      "source": [
        "X"
      ],
      "metadata": {
        "colab": {
          "base_uri": "https://localhost:8080/"
        },
        "id": "yWyGlWzqsADN",
        "outputId": "f0f54d09-12d0-4ec3-c0d4-c7e967c07bbc"
      },
      "execution_count": 21,
      "outputs": [
        {
          "output_type": "execute_result",
          "data": {
            "text/plain": [
              "array([[1.2, 3.4],\n",
              "       [1. , 7.8]])"
            ]
          },
          "metadata": {},
          "execution_count": 21
        }
      ]
    },
    {
      "cell_type": "markdown",
      "source": [
        "**Array** **Attributes**:\n",
        "\n",
        "shape → Tuple showing the number of rows and columns.\n",
        "\n",
        "ndim → Number of dimensions (axes).\n",
        "\n",
        "size → Total number of elements in the array.\n",
        "\n",
        "dtype → Data type of elements (e.g., int32, float64)"
      ],
      "metadata": {
        "id": "j7i97v8csj59"
      }
    },
    {
      "cell_type": "code",
      "source": [
        "X = np.array([[1, 2, 3],\n",
        "              [4, 5, 6],\n",
        "              [7, 8, 9]])"
      ],
      "metadata": {
        "id": "rPNZWVhHsO_p"
      },
      "execution_count": 24,
      "outputs": []
    },
    {
      "cell_type": "code",
      "source": [
        "X.shape #shape → Tuple showing the number of rows and columns."
      ],
      "metadata": {
        "colab": {
          "base_uri": "https://localhost:8080/"
        },
        "id": "yWTjc_SEs35e",
        "outputId": "e89a8745-b694-4392-dd4a-fdeee6efc512"
      },
      "execution_count": 26,
      "outputs": [
        {
          "output_type": "execute_result",
          "data": {
            "text/plain": [
              "(3, 3)"
            ]
          },
          "metadata": {},
          "execution_count": 26
        }
      ]
    },
    {
      "cell_type": "code",
      "source": [
        "X.ndim # Number of dimensions (axes)."
      ],
      "metadata": {
        "colab": {
          "base_uri": "https://localhost:8080/"
        },
        "id": "kCGj6AuAs_Ck",
        "outputId": "e9194a00-04d7-435c-8ae4-f7a8c39c5160"
      },
      "execution_count": 27,
      "outputs": [
        {
          "output_type": "execute_result",
          "data": {
            "text/plain": [
              "2"
            ]
          },
          "metadata": {},
          "execution_count": 27
        }
      ]
    },
    {
      "cell_type": "code",
      "source": [
        "X.size #Total number of elements in the array."
      ],
      "metadata": {
        "colab": {
          "base_uri": "https://localhost:8080/"
        },
        "id": "2iFKp1ArtPBc",
        "outputId": "088e7941-7acb-47e4-bf61-cd8a819347f4"
      },
      "execution_count": 28,
      "outputs": [
        {
          "output_type": "execute_result",
          "data": {
            "text/plain": [
              "9"
            ]
          },
          "metadata": {},
          "execution_count": 28
        }
      ]
    },
    {
      "cell_type": "code",
      "source": [
        "X.dtype #Data type of elements (e.g., int32, float64)"
      ],
      "metadata": {
        "colab": {
          "base_uri": "https://localhost:8080/"
        },
        "id": "8ch0RaDitWlN",
        "outputId": "55afba4c-f2e6-4850-95c6-2b39a2c62e8a"
      },
      "execution_count": 29,
      "outputs": [
        {
          "output_type": "execute_result",
          "data": {
            "text/plain": [
              "dtype('int64')"
            ]
          },
          "metadata": {},
          "execution_count": 29
        }
      ]
    },
    {
      "cell_type": "markdown",
      "source": [
        "**Reshape**\n",
        "\n",
        "Reshape changes the shape of an array without changing its data."
      ],
      "metadata": {
        "id": "aSlB3lSDuNsj"
      }
    },
    {
      "cell_type": "code",
      "source": [
        "a = np.arange(12)"
      ],
      "metadata": {
        "id": "NO4ANS0muPf2"
      },
      "execution_count": 30,
      "outputs": []
    },
    {
      "cell_type": "code",
      "source": [
        "a"
      ],
      "metadata": {
        "colab": {
          "base_uri": "https://localhost:8080/"
        },
        "id": "CSyutPPAuNe4",
        "outputId": "bfe9e2bc-2bd3-4b05-c1af-d65444da89f4"
      },
      "execution_count": 31,
      "outputs": [
        {
          "output_type": "execute_result",
          "data": {
            "text/plain": [
              "array([ 0,  1,  2,  3,  4,  5,  6,  7,  8,  9, 10, 11])"
            ]
          },
          "metadata": {},
          "execution_count": 31
        }
      ]
    },
    {
      "cell_type": "code",
      "source": [
        "a.shape"
      ],
      "metadata": {
        "colab": {
          "base_uri": "https://localhost:8080/"
        },
        "id": "KeEgyf6iuNXK",
        "outputId": "5db966a7-30db-424c-e0e7-9b6ecfc91281"
      },
      "execution_count": 32,
      "outputs": [
        {
          "output_type": "execute_result",
          "data": {
            "text/plain": [
              "(12,)"
            ]
          },
          "metadata": {},
          "execution_count": 32
        }
      ]
    },
    {
      "cell_type": "code",
      "source": [
        "b = a.reshape(3, 4)# Reshape into 2D (3 rows, 4 columns)"
      ],
      "metadata": {
        "id": "DF2aJhEAtfeg"
      },
      "execution_count": 33,
      "outputs": []
    },
    {
      "cell_type": "code",
      "source": [
        "b"
      ],
      "metadata": {
        "colab": {
          "base_uri": "https://localhost:8080/"
        },
        "id": "FOHK08dbujqB",
        "outputId": "3b6b60fb-4fb6-4c2d-9df6-97c10054653f"
      },
      "execution_count": 34,
      "outputs": [
        {
          "output_type": "execute_result",
          "data": {
            "text/plain": [
              "array([[ 0,  1,  2,  3],\n",
              "       [ 4,  5,  6,  7],\n",
              "       [ 8,  9, 10, 11]])"
            ]
          },
          "metadata": {},
          "execution_count": 34
        }
      ]
    },
    {
      "cell_type": "markdown",
      "source": [
        "**Flatten**\n",
        "\n",
        "Flatten converts a multi-dimensional array into a 1D array.\n",
        "\n",
        "flatten() → Always returns a copy (independent of original).\n"
      ],
      "metadata": {
        "id": "t739Ac_xux0j"
      }
    },
    {
      "cell_type": "code",
      "source": [
        "flat1 = X.flatten()#multi-dimensional array into a 1D array."
      ],
      "metadata": {
        "id": "Dn7ThnfQukP9"
      },
      "execution_count": 35,
      "outputs": []
    },
    {
      "cell_type": "code",
      "source": [
        "flat1"
      ],
      "metadata": {
        "colab": {
          "base_uri": "https://localhost:8080/"
        },
        "id": "1PktK5sYu-OI",
        "outputId": "2135b985-18c4-43d9-b9b3-0f4c85bc4c20"
      },
      "execution_count": 36,
      "outputs": [
        {
          "output_type": "execute_result",
          "data": {
            "text/plain": [
              "array([1, 2, 3, 4, 5, 6, 7, 8, 9])"
            ]
          },
          "metadata": {},
          "execution_count": 36
        }
      ]
    },
    {
      "cell_type": "markdown",
      "source": [
        "**Split**\n",
        "Splitting breaks an array into multiple sub-arrays.\n",
        "\n",
        "Horizontal split (hsplit) → Split columns.\n",
        "\n",
        "Vertical split (vsplit) → Split rows.\n",
        "\n",
        "split() → General version."
      ],
      "metadata": {
        "id": "I9AHiShtvs4Y"
      }
    },
    {
      "cell_type": "code",
      "source": [
        "Y = np.arange(16).reshape(4, 4) #make an array"
      ],
      "metadata": {
        "id": "W5hveRzNvP-k"
      },
      "execution_count": 39,
      "outputs": []
    },
    {
      "cell_type": "markdown",
      "source": [
        "**vertical** **split** (ROWS)**"
      ],
      "metadata": {
        "id": "rC2lle1fwPFx"
      }
    },
    {
      "cell_type": "code",
      "source": [
        "top, bottom = np.vsplit(Y, [2])  # split after 2 rows"
      ],
      "metadata": {
        "id": "23PyxEIcwCzu"
      },
      "execution_count": 40,
      "outputs": []
    },
    {
      "cell_type": "markdown",
      "source": [
        "**bold text** Horizontal split (columns) **bold text**"
      ],
      "metadata": {
        "id": "5k1yMpUVwTG0"
      }
    },
    {
      "cell_type": "code",
      "source": [
        "left, right = np.hsplit(Y, [2])  # split after 2 columns"
      ],
      "metadata": {
        "id": "ORo0_JQLwIaW"
      },
      "execution_count": null,
      "outputs": []
    },
    {
      "cell_type": "markdown",
      "source": [
        "**Selection in Feature Engineering**\n",
        "\n",
        "These indexing methods let us extract or manipulate subsets of features.\n",
        "such as:\n",
        "\n",
        "Selecting only specific features for training.\n",
        "\n",
        "Filtering out samples that do not meet conditions.\n",
        "\n",
        "Creating new feature sets by combining columns."
      ],
      "metadata": {
        "id": "khzUKtLtxKqi"
      }
    },
    {
      "cell_type": "code",
      "source": [
        "X = np.array([[10, 20, 30],\n",
        "              [40, 50, 60],\n",
        "              [70, 80, 90]])"
      ],
      "metadata": {
        "id": "jyg0PYhfwjFk"
      },
      "execution_count": 41,
      "outputs": []
    },
    {
      "cell_type": "code",
      "source": [
        "X[0]"
      ],
      "metadata": {
        "colab": {
          "base_uri": "https://localhost:8080/"
        },
        "id": "Ckm4dViWxWkt",
        "outputId": "caa97300-eda0-412e-abdf-5f77fd70f4c6"
      },
      "execution_count": 42,
      "outputs": [
        {
          "output_type": "execute_result",
          "data": {
            "text/plain": [
              "array([10, 20, 30])"
            ]
          },
          "metadata": {},
          "execution_count": 42
        }
      ]
    },
    {
      "cell_type": "code",
      "source": [
        "X[:, 0]"
      ],
      "metadata": {
        "colab": {
          "base_uri": "https://localhost:8080/"
        },
        "id": "hOki32q9xfs7",
        "outputId": "3942c54e-00a2-4db7-888e-943dba2ccce2"
      },
      "execution_count": 43,
      "outputs": [
        {
          "output_type": "execute_result",
          "data": {
            "text/plain": [
              "array([10, 40, 70])"
            ]
          },
          "metadata": {},
          "execution_count": 43
        }
      ]
    },
    {
      "cell_type": "code",
      "source": [
        "X[[0, 2]]          # select row 0 and 2"
      ],
      "metadata": {
        "id": "vgGVrH5txgqZ"
      },
      "execution_count": null,
      "outputs": []
    },
    {
      "cell_type": "code",
      "source": [
        "mask = X[:, 0] > 30  # select rows where first feature > 30"
      ],
      "metadata": {
        "id": "ThvHhpXnxqBA"
      },
      "execution_count": 44,
      "outputs": []
    },
    {
      "cell_type": "code",
      "source": [
        "mask"
      ],
      "metadata": {
        "colab": {
          "base_uri": "https://localhost:8080/"
        },
        "id": "CczNhj9Sxyj8",
        "outputId": "9f7e2f7a-deef-4b36-a535-a4e053cc1910"
      },
      "execution_count": 45,
      "outputs": [
        {
          "output_type": "execute_result",
          "data": {
            "text/plain": [
              "array([False,  True,  True])"
            ]
          },
          "metadata": {},
          "execution_count": 45
        }
      ]
    },
    {
      "cell_type": "code",
      "source": [
        "X[mask]"
      ],
      "metadata": {
        "colab": {
          "base_uri": "https://localhost:8080/"
        },
        "id": "3c1Sha86x04T",
        "outputId": "10e307c8-cb9e-464f-cee9-96870d044ca4"
      },
      "execution_count": 46,
      "outputs": [
        {
          "output_type": "execute_result",
          "data": {
            "text/plain": [
              "array([[40, 50, 60],\n",
              "       [70, 80, 90]])"
            ]
          },
          "metadata": {},
          "execution_count": 46
        }
      ]
    },
    {
      "cell_type": "markdown",
      "source": [
        "**Broadcasting**\n",
        "\n",
        "Broadcasting allows operations between arrays of different shapes, expanding the smaller array to match the bigger one without explicit loops."
      ],
      "metadata": {
        "id": "tXEWYijtyf-B"
      }
    },
    {
      "cell_type": "code",
      "source": [
        "A = np.array([[1, 2, 3],\n",
        "              [4, 5, 6]])   # shape (2,3)\n",
        "\n",
        "B = np.array([10, 20, 30])  # shape (3,)\n",
        "\n",
        "print(A + B)\n"
      ],
      "metadata": {
        "colab": {
          "base_uri": "https://localhost:8080/"
        },
        "id": "etx-X4IAx5KK",
        "outputId": "c3d7b7a6-c6be-4b6e-b695-065a37527fb2"
      },
      "execution_count": 47,
      "outputs": [
        {
          "output_type": "stream",
          "name": "stdout",
          "text": [
            "[[11 22 33]\n",
            " [14 25 36]]\n"
          ]
        }
      ]
    },
    {
      "cell_type": "markdown",
      "source": [
        "**Universal Functions (ufuncs)**\n",
        "\n",
        "Ufuncs are highly optimized, element-wise functions in NumPy.\n",
        "They work on arrays without writing loops."
      ],
      "metadata": {
        "id": "-6N0_Uvfzytw"
      }
    },
    {
      "cell_type": "code",
      "source": [
        "log_X = np.log1p(X)   # log(1 + x), avoids log(0)"
      ],
      "metadata": {
        "id": "g2A4y3FDzUhw"
      },
      "execution_count": 48,
      "outputs": []
    },
    {
      "cell_type": "code",
      "source": [
        "log_X"
      ],
      "metadata": {
        "colab": {
          "base_uri": "https://localhost:8080/"
        },
        "id": "FXGcP8Ajz8Sn",
        "outputId": "433e7ad2-5934-462b-cacb-d39a92eabe7a"
      },
      "execution_count": 49,
      "outputs": [
        {
          "output_type": "execute_result",
          "data": {
            "text/plain": [
              "array([[2.39789527, 3.04452244, 3.4339872 ],\n",
              "       [3.71357207, 3.93182563, 4.11087386],\n",
              "       [4.26267988, 4.39444915, 4.51085951]])"
            ]
          },
          "metadata": {},
          "execution_count": 49
        }
      ]
    },
    {
      "cell_type": "code",
      "source": [
        "exp_X = np.exp(X)"
      ],
      "metadata": {
        "id": "4Gz9zoQez-H_"
      },
      "execution_count": 52,
      "outputs": []
    },
    {
      "cell_type": "code",
      "source": [
        "exp_X"
      ],
      "metadata": {
        "colab": {
          "base_uri": "https://localhost:8080/"
        },
        "id": "JnLcPsCC0BdP",
        "outputId": "5d427436-e6da-48f3-a5a9-c0c73ae39574"
      },
      "execution_count": 53,
      "outputs": [
        {
          "output_type": "execute_result",
          "data": {
            "text/plain": [
              "array([[2.20264658e+04, 4.85165195e+08, 1.06864746e+13],\n",
              "       [2.35385267e+17, 5.18470553e+21, 1.14200739e+26],\n",
              "       [2.51543867e+30, 5.54062238e+34, 1.22040329e+39]])"
            ]
          },
          "metadata": {},
          "execution_count": 53
        }
      ]
    },
    {
      "cell_type": "code",
      "source": [
        "sqrt_X = np.sqrt(X)"
      ],
      "metadata": {
        "id": "jQt5pYAh0CvJ"
      },
      "execution_count": 54,
      "outputs": []
    },
    {
      "cell_type": "code",
      "source": [
        "sqrt_X"
      ],
      "metadata": {
        "colab": {
          "base_uri": "https://localhost:8080/"
        },
        "id": "xi0hIVjX0bJL",
        "outputId": "5bc18d4a-1384-46d6-c139-ffd75051c4d8"
      },
      "execution_count": 55,
      "outputs": [
        {
          "output_type": "execute_result",
          "data": {
            "text/plain": [
              "array([[3.16227766, 4.47213595, 5.47722558],\n",
              "       [6.32455532, 7.07106781, 7.74596669],\n",
              "       [8.36660027, 8.94427191, 9.48683298]])"
            ]
          },
          "metadata": {},
          "execution_count": 55
        }
      ]
    },
    {
      "cell_type": "code",
      "source": [
        "X.mean()"
      ],
      "metadata": {
        "colab": {
          "base_uri": "https://localhost:8080/"
        },
        "id": "nEQOS5eW0cbX",
        "outputId": "de16ff15-b160-4680-9724-19bbc1f20f8d"
      },
      "execution_count": 60,
      "outputs": [
        {
          "output_type": "execute_result",
          "data": {
            "text/plain": [
              "np.float64(50.0)"
            ]
          },
          "metadata": {},
          "execution_count": 60
        }
      ]
    },
    {
      "cell_type": "code",
      "source": [
        "X.mean(axis=1)#columns wise"
      ],
      "metadata": {
        "colab": {
          "base_uri": "https://localhost:8080/"
        },
        "id": "2WlWLgmI0leI",
        "outputId": "6a95ba05-b5bd-4018-8ef0-6f99c42dc3b8"
      },
      "execution_count": 61,
      "outputs": [
        {
          "output_type": "execute_result",
          "data": {
            "text/plain": [
              "array([20., 50., 80.])"
            ]
          },
          "metadata": {},
          "execution_count": 61
        }
      ]
    },
    {
      "cell_type": "code",
      "source": [
        "X.mean(axis=0)"
      ],
      "metadata": {
        "colab": {
          "base_uri": "https://localhost:8080/"
        },
        "id": "K9jLV8OK0_bQ",
        "outputId": "e7e92423-d866-43c4-8360-4b370f1eb476"
      },
      "execution_count": 62,
      "outputs": [
        {
          "output_type": "execute_result",
          "data": {
            "text/plain": [
              "array([40., 50., 60.])"
            ]
          },
          "metadata": {},
          "execution_count": 62
        }
      ]
    },
    {
      "cell_type": "code",
      "source": [
        "X.std(axis=0)"
      ],
      "metadata": {
        "colab": {
          "base_uri": "https://localhost:8080/"
        },
        "id": "YRq_tQPP1Bq5",
        "outputId": "3553e1bf-177e-4746-8f8a-03ee3f9c51b3"
      },
      "execution_count": 63,
      "outputs": [
        {
          "output_type": "execute_result",
          "data": {
            "text/plain": [
              "array([24.49489743, 24.49489743, 24.49489743])"
            ]
          },
          "metadata": {},
          "execution_count": 63
        }
      ]
    },
    {
      "cell_type": "code",
      "source": [
        "X.min(axis=0)"
      ],
      "metadata": {
        "colab": {
          "base_uri": "https://localhost:8080/"
        },
        "id": "zKaP68Rn1I6f",
        "outputId": "ab5c2ae1-7f40-45f1-d813-d1da58f7a70b"
      },
      "execution_count": 64,
      "outputs": [
        {
          "output_type": "execute_result",
          "data": {
            "text/plain": [
              "array([10, 20, 30])"
            ]
          },
          "metadata": {},
          "execution_count": 64
        }
      ]
    },
    {
      "cell_type": "code",
      "source": [
        "X.max(axis=0)"
      ],
      "metadata": {
        "colab": {
          "base_uri": "https://localhost:8080/"
        },
        "id": "pwc7CKhG1NTy",
        "outputId": "ae9cc0c4-3600-4700-decc-7f2c0f705aab"
      },
      "execution_count": 65,
      "outputs": [
        {
          "output_type": "execute_result",
          "data": {
            "text/plain": [
              "array([70, 80, 90])"
            ]
          },
          "metadata": {},
          "execution_count": 65
        }
      ]
    },
    {
      "cell_type": "code",
      "source": [],
      "metadata": {
        "id": "wT8hYss31PDg"
      },
      "execution_count": null,
      "outputs": []
    }
  ]
}